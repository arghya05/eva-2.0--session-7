{
 "cells": [
  {
   "cell_type": "markdown",
   "metadata": {
    "id": "LmoCHmEib0Jl"
   },
   "source": [
    "## This is a repeat assignment. I have used the pytreebank package last time to get the SST dataset. Here we will create the dataset on our own."
   ]
  },
  {
   "cell_type": "code",
   "execution_count": 3,
   "metadata": {
    "colab": {
     "base_uri": "https://localhost:8080/"
    },
    "id": "ZT7ds2A9z7d1",
    "outputId": "4eb5a589-6696-4ebc-9ed9-8269710d5fc9"
   },
   "outputs": [
    {
     "name": "stdout",
     "output_type": "stream",
     "text": [
      "Requirement already satisfied: google_trans_new in /usr/local/lib/python3.7/dist-packages (1.1.9)\n"
     ]
    }
   ],
   "source": [
    "!pip install google_trans_new"
   ]
  },
  {
   "cell_type": "code",
   "execution_count": 4,
   "metadata": {
    "colab": {
     "base_uri": "https://localhost:8080/"
    },
    "id": "2zchsfLscDnD",
    "outputId": "4dc5c62a-9d0f-4c65-af3d-0241afd88546"
   },
   "outputs": [
    {
     "name": "stdout",
     "output_type": "stream",
     "text": [
      "[nltk_data] Downloading package wordnet to /root/nltk_data...\n",
      "[nltk_data]   Unzipping corpora/wordnet.zip.\n",
      "[nltk_data] Downloading package stopwords to /root/nltk_data...\n",
      "[nltk_data]   Unzipping corpora/stopwords.zip.\n"
     ]
    }
   ],
   "source": [
    "import torch\n",
    "import torch.nn as nn\n",
    "import torch.optim as optim\n",
    "\n",
    "import torchtext.legacy\n",
    "from torchtext import datasets\n",
    "\n",
    "import re\n",
    "import pandas as pd\n",
    "import seaborn as sns\n",
    "from matplotlib import pyplot as plt\n",
    "\n",
    "import spacy\n",
    "import nltk\n",
    "from nltk.corpus import stopwords, wordnet\n",
    "nltk.download('wordnet')\n",
    "nltk.download('stopwords')\n",
    "\n",
    "import pytreebank\n",
    "\n",
    "import google_trans_new \n",
    "from google_trans_new import google_translator  \n",
    "import random\n",
    "\n",
    "import os, pickle"
   ]
  },
  {
   "cell_type": "markdown",
   "metadata": {
    "id": "hHnbhJDCb09b"
   },
   "source": [
    "## Get Dataset"
   ]
  },
  {
   "cell_type": "code",
   "execution_count": 28,
   "metadata": {
    "id": "2zPiAuWvW2FK"
   },
   "outputs": [],
   "source": [
    "# if issue in calling above fuction to get the dataset\n",
    "# dataset = pickle.load( open( \"/content/session5/dataset.pkl\", \"rb\" ) )"
   ]
  },
  {
   "cell_type": "code",
   "execution_count": 6,
   "metadata": {
    "id": "TMOU5zzscCwD"
   },
   "outputs": [],
   "source": [
    "data_train = [example.to_labeled_lines()[0] for example in dataset[\"train\"]]\n",
    "data_test = [example.to_labeled_lines()[0] for example in dataset[\"test\"]]"
   ]
  },
  {
   "cell_type": "code",
   "execution_count": 7,
   "metadata": {
    "colab": {
     "base_uri": "https://localhost:8080/"
    },
    "id": "ROQv1OrxcVWB",
    "outputId": "e0a29eac-f8f5-47da-d8fc-75dd6a17b917"
   },
   "outputs": [
    {
     "data": {
      "text/plain": [
       "(8544, 2210)"
      ]
     },
     "execution_count": 7,
     "metadata": {
      "tags": []
     },
     "output_type": "execute_result"
    }
   ],
   "source": [
    "len(data_train), len(data_test)"
   ]
  },
  {
   "cell_type": "code",
   "execution_count": 8,
   "metadata": {
    "id": "l_owf9lccWUR"
   },
   "outputs": [],
   "source": [
    "train = pd.DataFrame(data_train, columns = ['label', 'sentence'])\n",
    "test = pd.DataFrame(data_test, columns = ['label', 'sentence'])"
   ]
  },
  {
   "cell_type": "code",
   "execution_count": 9,
   "metadata": {
    "colab": {
     "base_uri": "https://localhost:8080/",
     "height": 204
    },
    "id": "BTq4etqYccCU",
    "outputId": "ef8c5734-e751-4559-df4a-e99baf5678ac"
   },
   "outputs": [
    {
     "data": {
      "text/html": [
       "<div>\n",
       "<style scoped>\n",
       "    .dataframe tbody tr th:only-of-type {\n",
       "        vertical-align: middle;\n",
       "    }\n",
       "\n",
       "    .dataframe tbody tr th {\n",
       "        vertical-align: top;\n",
       "    }\n",
       "\n",
       "    .dataframe thead th {\n",
       "        text-align: right;\n",
       "    }\n",
       "</style>\n",
       "<table border=\"1\" class=\"dataframe\">\n",
       "  <thead>\n",
       "    <tr style=\"text-align: right;\">\n",
       "      <th></th>\n",
       "      <th>label</th>\n",
       "      <th>sentence</th>\n",
       "    </tr>\n",
       "  </thead>\n",
       "  <tbody>\n",
       "    <tr>\n",
       "      <th>0</th>\n",
       "      <td>3</td>\n",
       "      <td>The Rock is destined to be the 21st Century 's...</td>\n",
       "    </tr>\n",
       "    <tr>\n",
       "      <th>1</th>\n",
       "      <td>4</td>\n",
       "      <td>The gorgeously elaborate continuation of `` Th...</td>\n",
       "    </tr>\n",
       "    <tr>\n",
       "      <th>2</th>\n",
       "      <td>3</td>\n",
       "      <td>Singer/composer Bryan Adams contributes a slew...</td>\n",
       "    </tr>\n",
       "    <tr>\n",
       "      <th>3</th>\n",
       "      <td>2</td>\n",
       "      <td>You 'd think by now America would have had eno...</td>\n",
       "    </tr>\n",
       "    <tr>\n",
       "      <th>4</th>\n",
       "      <td>3</td>\n",
       "      <td>Yet the act is still charming here .</td>\n",
       "    </tr>\n",
       "  </tbody>\n",
       "</table>\n",
       "</div>"
      ],
      "text/plain": [
       "   label                                           sentence\n",
       "0      3  The Rock is destined to be the 21st Century 's...\n",
       "1      4  The gorgeously elaborate continuation of `` Th...\n",
       "2      3  Singer/composer Bryan Adams contributes a slew...\n",
       "3      2  You 'd think by now America would have had eno...\n",
       "4      3               Yet the act is still charming here ."
      ]
     },
     "execution_count": 9,
     "metadata": {
      "tags": []
     },
     "output_type": "execute_result"
    }
   ],
   "source": [
    "train.head()"
   ]
  },
  {
   "cell_type": "code",
   "execution_count": 10,
   "metadata": {
    "colab": {
     "base_uri": "https://localhost:8080/"
    },
    "id": "d1m32NgjlIGU",
    "outputId": "77169bbe-95a8-4037-b030-065e5ab59085"
   },
   "outputs": [
    {
     "data": {
      "text/plain": [
       "3    2322\n",
       "1    2218\n",
       "2    1624\n",
       "4    1288\n",
       "0    1092\n",
       "Name: label, dtype: int64"
      ]
     },
     "execution_count": 10,
     "metadata": {
      "tags": []
     },
     "output_type": "execute_result"
    }
   ],
   "source": [
    "train['label'].value_counts()"
   ]
  },
  {
   "cell_type": "code",
   "execution_count": 11,
   "metadata": {
    "colab": {
     "base_uri": "https://localhost:8080/",
     "height": 405
    },
    "id": "tdsG6GiNavE1",
    "outputId": "3fd49a45-943c-4ba6-e778-0b7a730ba831"
   },
   "outputs": [
    {
     "data": {
      "text/plain": [
       "[Text(0.5, 0, 'Labels')]"
      ]
     },
     "execution_count": 11,
     "metadata": {
      "tags": []
     },
     "output_type": "execute_result"
    },
    {
     "data": {
      "image/png": "[encoded data removed]",
      "text/plain": [
       "<Figure size 576x432 with 1 Axes>"
      ]
     },
     "metadata": {
      "needs_background": "light",
      "tags": []
     },
     "output_type": "display_data"
    }
   ],
   "source": [
    "fig = plt.figure(figsize=(8,6))\n",
    "\n",
    "ax = sns.barplot(x=train['label'].unique(), y=train['label'].value_counts())\n",
    "\n",
    "ax.set(xlabel = 'Labels')"
   ]
  },
  {
   "cell_type": "markdown",
   "metadata": {
    "id": "vTlEZv26atqk"
   },
   "source": [
    "### Data seems to be imbalanced. We will try to make it balanced"
   ]
  },
  {
   "cell_type": "markdown",
   "metadata": {
    "id": "eGrp5qPjdYqE"
   },
   "source": [
    "## Augment Data"
   ]
  },
  {
   "cell_type": "markdown",
   "metadata": {
    "id": "3nJzZHJkdi4H"
   },
   "source": [
    "### Back Translation"
   ]
  },
  {
   "cell_type": "code",
   "execution_count": 12,
   "metadata": {
    "id": "spRCfjjFbV8W"
   },
   "outputs": [],
   "source": [
    "def back_translate(sentence):\n",
    "  \"\"\" Google translate the input sentence and translate back\"\"\"\n",
    "  available_langs = list(google_trans_new.LANGUAGES.keys()) \n",
    "  trans_lang = random.choice(available_langs) \n",
    "  translator = google_translator()  \n",
    "  translate_text = translator.translate(sentence,lang_tgt=trans_lang) \n",
    "  translate_back = translator.translate(translate_text,lang_tgt='en')\n",
    "\n",
    "  return (translate_back)"
   ]
  },
  {
   "cell_type": "code",
   "execution_count": 13,
   "metadata": {
    "colab": {
     "base_uri": "https://localhost:8080/",
     "height": 52
    },
    "id": "t0QNEp37cKcy",
    "outputId": "1beae0b4-b7ee-4c2c-aaee-2620bdb9f4b6"
   },
   "outputs": [
    {
     "data": {
      "application/vnd.google.colaboratory.intrinsic+json": {
       "type": "string"
      },
      "text/plain": [
       "'Pull out the Classic Amazon Mechanical Turk workers, the authors present these sentences in a random order and ask the annotates to indicate the feeling and degree of feelings for each sentence using a cursor. '"
      ]
     },
     "execution_count": 13,
     "metadata": {
      "tags": []
     },
     "output_type": "execute_result"
    }
   ],
   "source": [
    "# test function \n",
    "sentence = ' Pulling out the classic Amazon Mechanical Turk workers, \\\n",
    "the authors presented these phrases in a random order and asked annotators to indicate the sentiment and degree of sentiment for each phrase using a slider.'\n",
    "test_bt = back_translate(sentence)\n",
    "test_bt"
   ]
  },
  {
   "cell_type": "markdown",
   "metadata": {
    "id": "gdV2JNde1Cks"
   },
   "source": [
    "### Random Deletion\n",
    "As the name suggests, random deletion deletes words from a sentence. Given a probability parameter p, it will go through the sentence and decide whether to delete a word or not based on that random probability. Consider of it as pixel dropouts while treating images."
   ]
  },
  {
   "cell_type": "code",
   "execution_count": 14,
   "metadata": {
    "id": "s4YyOI9lca5L"
   },
   "outputs": [],
   "source": [
    "def random_deletion(sentence, p=0.5): \n",
    "    words = sentence.split()\n",
    "    if len(words) == 1: # return if single word\n",
    "        return words\n",
    "    remaining = list(filter(lambda x: random.uniform(0,1) > p,words)) \n",
    "    if len(remaining) == 0: # if not left, sample a random word\n",
    "        return [random.choice(words)] \n",
    "    else:\n",
    "        return (' '.join(remaining))"
   ]
  },
  {
   "cell_type": "code",
   "execution_count": 15,
   "metadata": {
    "colab": {
     "base_uri": "https://localhost:8080/",
     "height": 35
    },
    "id": "US0cR6ie1oWx",
    "outputId": "42a5b9ea-8f17-4e85-d404-070ab7902f20"
   },
   "outputs": [
    {
     "data": {
      "application/vnd.google.colaboratory.intrinsic+json": {
       "type": "string"
      },
      "text/plain": [
       "'the classic Amazon Mechanical the authors phrases a random order and asked annotators sentiment and degree for'"
      ]
     },
     "execution_count": 15,
     "metadata": {
      "tags": []
     },
     "output_type": "execute_result"
    }
   ],
   "source": [
    "test_rd = random_deletion(sentence, p=0.5)\n",
    "test_rd"
   ]
  },
  {
   "cell_type": "markdown",
   "metadata": {
    "id": "4XuPV3G_3Ra-"
   },
   "source": [
    "### Random Swap\n",
    "The random swap augmentation takes a sentence and then swaps words within it n times, with each iteration working on the previously swapped sentence. Here we sample two random numbers based on the length of the sentence, and then just keep swapping until we hit n.\n",
    "\n"
   ]
  },
  {
   "cell_type": "code",
   "execution_count": 16,
   "metadata": {
    "id": "XEBsTs_R3MzK"
   },
   "outputs": [],
   "source": [
    "def random_swap(sentence, n=5): \n",
    "    words = sentence.split()\n",
    "    if len(words) == 1: # return if single word\n",
    "        return words\n",
    "    length = range(len(words)) \n",
    "    for _ in range(n):\n",
    "        idx1, idx2 = random.sample(length, 2)\n",
    "        words[idx1], words[idx2] = words[idx2], words[idx1] \n",
    "    return (' '.join(words))"
   ]
  },
  {
   "cell_type": "code",
   "execution_count": 17,
   "metadata": {
    "colab": {
     "base_uri": "https://localhost:8080/",
     "height": 52
    },
    "id": "1deJIPvk3nl2",
    "outputId": "61940d95-565b-4409-9640-855f66dc8ef6"
   },
   "outputs": [
    {
     "data": {
      "application/vnd.google.colaboratory.intrinsic+json": {
       "type": "string"
      },
      "text/plain": [
       "'Pulling out the classic Amazon phrases Turk workers, the authors slider. these Mechanical in a random indicate and asked annotators of the order sentiment and degree to sentiment for each phrase using a presented'"
      ]
     },
     "execution_count": 17,
     "metadata": {
      "tags": []
     },
     "output_type": "execute_result"
    }
   ],
   "source": [
    "test_rs = random_swap(sentence, n=5)\n",
    "test_rs"
   ]
  },
  {
   "cell_type": "markdown",
   "metadata": {
    "id": "4vWVnAAF_uQy"
   },
   "source": [
    "## Random Insertion\n",
    "A random insertion technique looks at a sentence and then randomly inserts synonyms of existing non-stopwords into the sentence n times. Assuming you have a way of getting a synonym of a word and a way of eliminating stopwords (common words such as and, it, the, etc.)\n"
   ]
  },
  {
   "cell_type": "code",
   "execution_count": 18,
   "metadata": {
    "id": "uIlCo8gd9rlJ"
   },
   "outputs": [],
   "source": [
    "stop_words = set(stopwords.words('english'))\n",
    "\n",
    "def random_insertion(sentence, n=4): \n",
    "    words = sentence.split()\n",
    "    if len(words) == 1: # return if single word\n",
    "        return words\n",
    "    words = [w for w in words if not w.lower() in stop_words]\n",
    "    for _ in range(n):\n",
    "        word = random.choice(words)\n",
    "        synonym = wordnet.synsets(word)\n",
    "        if len(synonym) > 0:\n",
    "          sentence.replace(word, synonym[0].lemmas()[0].name())\n",
    "    return sentence"
   ]
  },
  {
   "cell_type": "code",
   "execution_count": 19,
   "metadata": {
    "colab": {
     "base_uri": "https://localhost:8080/",
     "height": 52
    },
    "id": "X2l_iIsQBSTU",
    "outputId": "b98c6ec1-472b-478b-b0b4-1da54f1a069b"
   },
   "outputs": [
    {
     "data": {
      "application/vnd.google.colaboratory.intrinsic+json": {
       "type": "string"
      },
      "text/plain": [
       "' Pulling out the classic Amazon Mechanical Turk workers, the authors presented these phrases in a random order and asked annotators to indicate the sentiment and degree of sentiment for each phrase using a slider.'"
      ]
     },
     "execution_count": 19,
     "metadata": {
      "tags": []
     },
     "output_type": "execute_result"
    }
   ],
   "source": [
    "test_ri = random_insertion(sentence, n=3)\n",
    "test_ri"
   ]
  },
  {
   "cell_type": "markdown",
   "metadata": {
    "id": "_wSiWWA3JA4q"
   },
   "source": [
    "## Generate Augmented Data"
   ]
  },
  {
   "cell_type": "code",
   "execution_count": 20,
   "metadata": {
    "id": "I9SRa3p2cl9m"
   },
   "outputs": [],
   "source": [
    "# Get the less populated classes\n",
    "df_class_0 = train[train['label'] == 0]  # 1092\n",
    "df_class_4 = train[train['label'] == 4]  # 1288 \n",
    "df_class_2 = train[train['label'] == 2]  # 1624\n",
    "df_class_1 = train[train['label'] == 1]  # 2218 \n",
    "df_class_3 = train[train['label'] == 3]  # 2322"
   ]
  },
  {
   "cell_type": "markdown",
   "metadata": {
    "id": "aKdIMofBy_ez"
   },
   "source": [
    "## Get the data balanced"
   ]
  },
  {
   "cell_type": "code",
   "execution_count": 21,
   "metadata": {
    "id": "-_ABAGD_ebkL"
   },
   "outputs": [],
   "source": [
    "# Populate class 0\n",
    "\n",
    "# Random Deletion\n",
    "df_class_0_rd = df_class_0.sample(frac=.75)\n",
    "df_class_0_rd['sentence'] = df_class_0_rd['sentence'].apply(lambda x: random_deletion(x))\n",
    "\n",
    "# Random Swap\n",
    "df_class_0_rs = df_class_0.sample(frac=.75)\n",
    "df_class_0_rs['sentence'] = df_class_0_rs['sentence'].apply(lambda x: random_swap(x))\n",
    "\n",
    "# Random Insert\n",
    "df_class_0_ri = df_class_0.sample(frac=.75)\n",
    "df_class_0_ri['sentence'] = df_class_0_ri['sentence'].apply(lambda x: random_insertion(x))\n",
    "\n",
    "# Populate class 4\n",
    "\n",
    "# Random Deletion\n",
    "df_class_4_rd = df_class_4.sample(frac=.60)\n",
    "df_class_4_rd['sentence'] = df_class_4_rd['sentence'].apply(lambda x: random_deletion(x))\n",
    "\n",
    "# Random Swap\n",
    "df_class_4_rs = df_class_4.sample(frac=.60)\n",
    "df_class_4_rs['sentence'] = df_class_4_rs['sentence'].apply(lambda x: random_swap(x))\n",
    "\n",
    "# Random Insert\n",
    "df_class_4_ri = df_class_4.sample(frac=.60)\n",
    "df_class_4_ri['sentence'] = df_class_4_ri['sentence'].apply(lambda x: random_insertion(x))\n",
    "\n",
    "# Populate class 2\n",
    "\n",
    "# Random Deletion\n",
    "df_class_2_rd = df_class_2.sample(frac=.33)\n",
    "df_class_2_rd['sentence'] = df_class_2_rd['sentence'].apply(lambda x: random_deletion(x))\n",
    "\n",
    "# Random Swap\n",
    "df_class_2_rs = df_class_2.sample(frac=.33)\n",
    "df_class_2_rs['sentence'] = df_class_2_rs['sentence'].apply(lambda x: random_swap(x))\n",
    "\n",
    "# Random Insert\n",
    "df_class_2_ri = df_class_2.sample(frac=.33)\n",
    "df_class_2_ri['sentence'] = df_class_2_ri['sentence'].apply(lambda x: random_insertion(x))\n",
    "\n",
    "# Populate class 1\n",
    "\n",
    "# Random Deletion\n",
    "df_class_1_rd = df_class_1.sample(frac=.16)\n",
    "df_class_1_rd['sentence'] = df_class_1_rd['sentence'].apply(lambda x: random_deletion(x))\n",
    "\n",
    "# Random Swap\n",
    "df_class_1_rs = df_class_1.sample(frac=.16)\n",
    "df_class_1_rs['sentence'] = df_class_1_rs['sentence'].apply(lambda x: random_swap(x))\n",
    "\n",
    "# Random Insert\n",
    "df_class_1_ri = df_class_1.sample(frac=.16)\n",
    "df_class_1_ri['sentence'] = df_class_1_ri['sentence'].apply(lambda x: random_insertion(x))\n",
    "\n",
    "# Populate class 3\n",
    "\n",
    "# Random Deletion\n",
    "df_class_3_rd = df_class_3.sample(frac=.16)\n",
    "df_class_3_rd['sentence'] = df_class_3_rd['sentence'].apply(lambda x: random_deletion(x))\n",
    "\n",
    "# Random Swap\n",
    "df_class_3_rs = df_class_3.sample(frac=.16)\n",
    "df_class_3_rs['sentence'] = df_class_3_rs['sentence'].apply(lambda x: random_swap(x))\n",
    "\n",
    "# Random Insert\n",
    "df_class_3_ri = df_class_3.sample(frac=.16)\n",
    "df_class_3_ri['sentence'] = df_class_3_ri['sentence'].apply(lambda x: random_insertion(x))"
   ]
  },
  {
   "cell_type": "code",
   "execution_count": 22,
   "metadata": {
    "id": "rYWN9RMQg1lO"
   },
   "outputs": [],
   "source": [
    "# Concatenate the records for creating balanced dataset\n",
    "train_interim = pd.concat([train, df_class_0_rd, df_class_2_rd, df_class_4_rd, df_class_1_rd, df_class_3_rd,  \\\n",
    "                           df_class_0_rs, df_class_2_rs, df_class_4_rs, df_class_1_rs, df_class_3_rs,  \\\n",
    "                           df_class_0_ri, df_class_2_ri , df_class_4_ri, df_class_1_ri, df_class_3_ri], ignore_index=True)"
   ]
  },
  {
   "cell_type": "code",
   "execution_count": 23,
   "metadata": {
    "colab": {
     "base_uri": "https://localhost:8080/"
    },
    "id": "0DcYkasxg39Q",
    "outputId": "23ebdc44-1f1f-4783-d6ba-8ff7191c6e88"
   },
   "outputs": [
    {
     "data": {
      "text/plain": [
       "4    3607\n",
       "0    3549\n",
       "3    3438\n",
       "1    3283\n",
       "2    3232\n",
       "Name: label, dtype: int64"
      ]
     },
     "execution_count": 23,
     "metadata": {
      "tags": []
     },
     "output_type": "execute_result"
    }
   ],
   "source": [
    "train_interim['label'].value_counts()"
   ]
  },
  {
   "cell_type": "code",
   "execution_count": 24,
   "metadata": {
    "colab": {
     "base_uri": "https://localhost:8080/",
     "height": 204
    },
    "id": "42BK0gTrg4SG",
    "outputId": "24a24410-e616-4424-f778-5f144ac98341"
   },
   "outputs": [
    {
     "data": {
      "text/html": [
       "<div>\n",
       "<style scoped>\n",
       "    .dataframe tbody tr th:only-of-type {\n",
       "        vertical-align: middle;\n",
       "    }\n",
       "\n",
       "    .dataframe tbody tr th {\n",
       "        vertical-align: top;\n",
       "    }\n",
       "\n",
       "    .dataframe thead th {\n",
       "        text-align: right;\n",
       "    }\n",
       "</style>\n",
       "<table border=\"1\" class=\"dataframe\">\n",
       "  <thead>\n",
       "    <tr style=\"text-align: right;\">\n",
       "      <th></th>\n",
       "      <th>label</th>\n",
       "      <th>sentence</th>\n",
       "    </tr>\n",
       "  </thead>\n",
       "  <tbody>\n",
       "    <tr>\n",
       "      <th>2166</th>\n",
       "      <td>4</td>\n",
       "      <td>What I saw , I enjoyed .</td>\n",
       "    </tr>\n",
       "    <tr>\n",
       "      <th>3354</th>\n",
       "      <td>4</td>\n",
       "      <td>A movie that begins with the daily life of nav...</td>\n",
       "    </tr>\n",
       "    <tr>\n",
       "      <th>6924</th>\n",
       "      <td>1</td>\n",
       "      <td>The Good-Nature Comby Ensemble, which is tryin...</td>\n",
       "    </tr>\n",
       "    <tr>\n",
       "      <th>5113</th>\n",
       "      <td>1</td>\n",
       "      <td>Ignoring this, did Swimfan anyway</td>\n",
       "    </tr>\n",
       "    <tr>\n",
       "      <th>5217</th>\n",
       "      <td>1</td>\n",
       "      <td>The Dilîrê Tîrete Story of Shreve is on the sc...</td>\n",
       "    </tr>\n",
       "  </tbody>\n",
       "</table>\n",
       "</div>"
      ],
      "text/plain": [
       "      label                                           sentence\n",
       "2166      4                          What I saw , I enjoyed . \n",
       "3354      4  A movie that begins with the daily life of nav...\n",
       "6924      1  The Good-Nature Comby Ensemble, which is tryin...\n",
       "5113      1                 Ignoring this, did Swimfan anyway \n",
       "5217      1  The Dilîrê Tîrete Story of Shreve is on the sc..."
      ]
     },
     "execution_count": 24,
     "metadata": {
      "tags": []
     },
     "output_type": "execute_result"
    }
   ],
   "source": [
    "# Back Translate\n",
    "df_part_bt = train.sample( n=5)\n",
    "df_part_bt['sentence'] = df_part_bt['sentence'].apply(lambda x: back_translate(x))\n",
    "df_part_bt.head()"
   ]
  },
  {
   "cell_type": "code",
   "execution_count": 25,
   "metadata": {
    "id": "E6Jq0ApzkB_T"
   },
   "outputs": [],
   "source": [
    "# train_final = pd.concat([train_interim], ignore_index=True)\n",
    "train_final = pd.concat([df_part_bt, train_interim], ignore_index=True)"
   ]
  },
  {
   "cell_type": "code",
   "execution_count": 26,
   "metadata": {
    "colab": {
     "base_uri": "https://localhost:8080/"
    },
    "id": "GtuxXHUGSISI",
    "outputId": "9e995987-1ace-42de-dce7-889294b33db5"
   },
   "outputs": [
    {
     "data": {
      "text/plain": [
       "(17114, 2)"
      ]
     },
     "execution_count": 26,
     "metadata": {
      "tags": []
     },
     "output_type": "execute_result"
    }
   ],
   "source": [
    "train_final.shape"
   ]
  },
  {
   "cell_type": "code",
   "execution_count": 27,
   "metadata": {
    "colab": {
     "base_uri": "https://localhost:8080/",
     "height": 204
    },
    "id": "jqzKWEvisFGI",
    "outputId": "2721a273-6f7e-4e29-da27-cc777e96b528"
   },
   "outputs": [
    {
     "data": {
      "text/html": [
       "<div>\n",
       "<style scoped>\n",
       "    .dataframe tbody tr th:only-of-type {\n",
       "        vertical-align: middle;\n",
       "    }\n",
       "\n",
       "    .dataframe tbody tr th {\n",
       "        vertical-align: top;\n",
       "    }\n",
       "\n",
       "    .dataframe thead th {\n",
       "        text-align: right;\n",
       "    }\n",
       "</style>\n",
       "<table border=\"1\" class=\"dataframe\">\n",
       "  <thead>\n",
       "    <tr style=\"text-align: right;\">\n",
       "      <th></th>\n",
       "      <th>label</th>\n",
       "      <th>sentence</th>\n",
       "    </tr>\n",
       "  </thead>\n",
       "  <tbody>\n",
       "    <tr>\n",
       "      <th>0</th>\n",
       "      <td>4</td>\n",
       "      <td>What I saw , I enjoyed .</td>\n",
       "    </tr>\n",
       "    <tr>\n",
       "      <th>1</th>\n",
       "      <td>4</td>\n",
       "      <td>A movie that begins with the daily life of nav...</td>\n",
       "    </tr>\n",
       "    <tr>\n",
       "      <th>2</th>\n",
       "      <td>1</td>\n",
       "      <td>The Good-Nature Comby Ensemble, which is tryin...</td>\n",
       "    </tr>\n",
       "    <tr>\n",
       "      <th>3</th>\n",
       "      <td>1</td>\n",
       "      <td>Ignoring this, did Swimfan anyway</td>\n",
       "    </tr>\n",
       "    <tr>\n",
       "      <th>4</th>\n",
       "      <td>1</td>\n",
       "      <td>The Dilîrê Tîrete Story of Shreve is on the sc...</td>\n",
       "    </tr>\n",
       "  </tbody>\n",
       "</table>\n",
       "</div>"
      ],
      "text/plain": [
       "   label                                           sentence\n",
       "0      4                          What I saw , I enjoyed . \n",
       "1      4  A movie that begins with the daily life of nav...\n",
       "2      1  The Good-Nature Comby Ensemble, which is tryin...\n",
       "3      1                 Ignoring this, did Swimfan anyway \n",
       "4      1  The Dilîrê Tîrete Story of Shreve is on the sc..."
      ]
     },
     "execution_count": 27,
     "metadata": {
      "tags": []
     },
     "output_type": "execute_result"
    }
   ],
   "source": [
    "train_final.head()"
   ]
  },
  {
   "cell_type": "code",
   "execution_count": 28,
   "metadata": {
    "colab": {
     "base_uri": "https://localhost:8080/"
    },
    "id": "pXgYAENj1nzG",
    "outputId": "88acb2ce-4318-4635-d8b6-94ed6c494656"
   },
   "outputs": [
    {
     "data": {
      "text/plain": [
       "4    3609\n",
       "0    3549\n",
       "3    3438\n",
       "1    3286\n",
       "2    3232\n",
       "Name: label, dtype: int64"
      ]
     },
     "execution_count": 28,
     "metadata": {
      "tags": []
     },
     "output_type": "execute_result"
    }
   ],
   "source": [
    "train_final['label'].value_counts()"
   ]
  },
  {
   "cell_type": "markdown",
   "metadata": {
    "id": "ny1M5ogRQ9u4"
   },
   "source": [
    "### Serialize the dataframe "
   ]
  },
  {
   "cell_type": "code",
   "execution_count": null,
   "metadata": {
    "id": "R954Q6-_N6Ae"
   },
   "outputs": [],
   "source": [
    "with open('train_final.pkl', 'wb') as train_set: \n",
    "    pickle.dump(train_final, train_set)"
   ]
  },
  {
   "cell_type": "code",
   "execution_count": 29,
   "metadata": {
    "colab": {
     "base_uri": "https://localhost:8080/",
     "height": 405
    },
    "id": "uttUzcxRQHA6",
    "outputId": "77c0750b-74ea-4bc6-9bc9-214a1a4ba3f6"
   },
   "outputs": [
    {
     "data": {
      "text/plain": [
       "[Text(0.5, 0, 'Labels')]"
      ]
     },
     "execution_count": 29,
     "metadata": {
      "tags": []
     },
     "output_type": "execute_result"
    },
    {
     "data": {
      "image/png": "[encoded data removed]",
      "text/plain": [
       "<Figure size 576x432 with 1 Axes>"
      ]
     },
     "metadata": {
      "needs_background": "light",
      "tags": []
     },
     "output_type": "display_data"
    }
   ],
   "source": [
    "fig = plt.figure(figsize=(8,6))\n",
    "\n",
    "ax = sns.barplot(x=train_final['label'].unique(), y=train_final['label'].value_counts())\n",
    "\n",
    "ax.set(xlabel = 'Labels')"
   ]
  },
  {
   "cell_type": "markdown",
   "metadata": {
    "id": "cPquZAU1Qr0D"
   },
   "source": [
    "### We have got nearly balanced"
   ]
  },
  {
   "cell_type": "markdown",
   "metadata": {
    "id": "e__2lMoaRTO3"
   },
   "source": [
    "### Tokenize the data"
   ]
  },
  {
   "cell_type": "code",
   "execution_count": 30,
   "metadata": {
    "id": "Y2scpuA8VUzV"
   },
   "outputs": [],
   "source": [
    "train_final.to_csv('train_final.csv', index=False)\n",
    "test.to_csv('test.csv', index=False)"
   ]
  },
  {
   "cell_type": "code",
   "execution_count": 31,
   "metadata": {
    "id": "n0IDkXtNRwz-"
   },
   "outputs": [],
   "source": [
    "def text_clean(text):\n",
    "  text = re.sub(r'[^A-Za-z0-9_-]+', ' ', text)\n",
    "  text = re.sub(r'https?:/\\/\\S+', ' ', text)\n",
    "\n",
    "  return(text.strip())"
   ]
  },
  {
   "cell_type": "code",
   "execution_count": 32,
   "metadata": {
    "id": "kZ3hvc78Qqd5"
   },
   "outputs": [],
   "source": [
    "nlp = spacy.load('en', disable = ['parser', 'tagger', 'ner'])\n",
    "def tokenizer(s):\n",
    "  return [w.text.lower() for w in nlp(text_clean(s))]"
   ]
  },
  {
   "cell_type": "code",
   "execution_count": 33,
   "metadata": {
    "id": "uXG2fWidR7sc"
   },
   "outputs": [],
   "source": [
    "TEXT = torchtext.legacy.data.Field(tokenize = tokenizer)\n",
    "\n",
    "LABEL = torchtext.legacy.data.LabelField(dtype = torch.float)"
   ]
  },
  {
   "cell_type": "code",
   "execution_count": 34,
   "metadata": {
    "id": "L0YT2fCIT984"
   },
   "outputs": [],
   "source": [
    "datafields = [('label', LABEL), ('sentence', TEXT)]"
   ]
  },
  {
   "cell_type": "code",
   "execution_count": 35,
   "metadata": {
    "id": "Lzo4F_s7UCpO"
   },
   "outputs": [],
   "source": [
    "trn, tst = torchtext.legacy.data.TabularDataset.splits(path='/content/session5',\n",
    "                                                       train = 'train_final.csv',\n",
    "                                                       test = 'test.csv',\n",
    "                                                       format = 'csv',\n",
    "                                                       skip_header = True,\n",
    "                                                       fields = datafields\n",
    "                                                       )"
   ]
  },
  {
   "cell_type": "code",
   "execution_count": 36,
   "metadata": {
    "colab": {
     "base_uri": "https://localhost:8080/"
    },
    "id": "6R1vyxlMWXrV",
    "outputId": "e189c4b8-cb32-4870-bd75-10c4a75ce2ac"
   },
   "outputs": [
    {
     "data": {
      "text/plain": [
       "[<torchtext.legacy.data.example.Example at 0x7fc0dab8f750>,\n",
       " <torchtext.legacy.data.example.Example at 0x7fc0dab8f110>,\n",
       " <torchtext.legacy.data.example.Example at 0x7fc0dab8f990>,\n",
       " <torchtext.legacy.data.example.Example at 0x7fc0dab8f550>,\n",
       " <torchtext.legacy.data.example.Example at 0x7fc0d9c0f610>]"
      ]
     },
     "execution_count": 36,
     "metadata": {
      "tags": []
     },
     "output_type": "execute_result"
    }
   ],
   "source": [
    "trn[:5]"
   ]
  },
  {
   "cell_type": "code",
   "execution_count": 37,
   "metadata": {
    "colab": {
     "base_uri": "https://localhost:8080/"
    },
    "id": "GCPUYHcuaBba",
    "outputId": "81d1d711-548d-4c33-daee-4bd4732cfd62"
   },
   "outputs": [
    {
     "name": "stdout",
     "output_type": "stream",
     "text": [
      "Number of examples in training 17114\n",
      "Number of examples in test 2210\n"
     ]
    }
   ],
   "source": [
    "print(f'Number of examples in training {len(trn)}')\n",
    "print(f'Number of examples in test {len(tst)}')"
   ]
  },
  {
   "cell_type": "code",
   "execution_count": 38,
   "metadata": {
    "colab": {
     "base_uri": "https://localhost:8080/"
    },
    "id": "hIbChN6-aJHM",
    "outputId": "a31733e2-0b95-4663-b069-e71ba97224a1"
   },
   "outputs": [
    {
     "data": {
      "text/plain": [
       "dict_keys(['label', 'sentence'])"
      ]
     },
     "execution_count": 38,
     "metadata": {
      "tags": []
     },
     "output_type": "execute_result"
    }
   ],
   "source": [
    "trn[5].__dict__.keys()"
   ]
  },
  {
   "cell_type": "code",
   "execution_count": 40,
   "metadata": {
    "colab": {
     "base_uri": "https://localhost:8080/"
    },
    "id": "gQ0AWue8aYVe",
    "outputId": "8e270aa3-12b4-47d1-da24-e76b0ee4e5ea"
   },
   "outputs": [
    {
     "name": "stdout",
     "output_type": "stream",
     "text": [
      "{'label': '3', 'sentence': ['the', 'rock', 'is', 'destined', 'to', 'be', 'the', '21st', 'century', 's', 'new', 'conan', 'and', 'that', 'he', 's', 'going', 'to', 'make', 'a', 'splash', 'even', 'greater', 'than', 'arnold', 'schwarzenegger', 'jean', '-', 'claud', 'van', 'damme', 'or', 'steven', 'segal']}\n"
     ]
    }
   ],
   "source": [
    "print(vars(trn[5]))"
   ]
  },
  {
   "cell_type": "code",
   "execution_count": 41,
   "metadata": {
    "id": "LO52LIENelsT"
   },
   "outputs": [],
   "source": [
    "words = [0 + len(t.sentence) for t in trn]"
   ]
  },
  {
   "cell_type": "code",
   "execution_count": 42,
   "metadata": {
    "colab": {
     "base_uri": "https://localhost:8080/"
    },
    "id": "IsBKZ7g5fPa-",
    "outputId": "b34ccfa7-6c4d-49d0-f26e-9ee99cc73766"
   },
   "outputs": [
    {
     "data": {
      "text/plain": [
       "275634"
      ]
     },
     "execution_count": 42,
     "metadata": {
      "tags": []
     },
     "output_type": "execute_result"
    }
   ],
   "source": [
    "sum(words)"
   ]
  },
  {
   "cell_type": "code",
   "execution_count": 43,
   "metadata": {
    "colab": {
     "base_uri": "https://localhost:8080/"
    },
    "id": "L-uK4B7VaauP",
    "outputId": "215c7806-9a7f-4377-ff14-89810ab2e95f"
   },
   "outputs": [
    {
     "name": "stderr",
     "output_type": "stream",
     "text": [
      ".vector_cache/glove.6B.zip: 862MB [02:40, 5.36MB/s]                           \n",
      " 99%|█████████▉| 397445/400000 [00:14<00:00, 25950.49it/s]"
     ]
    }
   ],
   "source": [
    "TEXT.build_vocab(trn, max_size = 18000,\n",
    "                 vectors = \"glove.6B.100d\",\n",
    "                 unk_init = torch.Tensor.normal_ )\n",
    "\n",
    "LABEL.build_vocab(trn) "
   ]
  },
  {
   "cell_type": "markdown",
   "metadata": {
    "id": "y38F31IVgLvd"
   },
   "source": [
    "### Serialize Vocab"
   ]
  },
  {
   "cell_type": "code",
   "execution_count": 44,
   "metadata": {
    "id": "rq2O93nAgKfK"
   },
   "outputs": [],
   "source": [
    "with open('TEXT.pkl', 'wb') as text: \n",
    "    pickle.dump(TEXT, text)"
   ]
  },
  {
   "cell_type": "code",
   "execution_count": 45,
   "metadata": {
    "colab": {
     "base_uri": "https://localhost:8080/"
    },
    "id": "1w1CGaBlhtOi",
    "outputId": "2d2655fa-9e3e-4205-a448-ab690bacf6d1"
   },
   "outputs": [
    {
     "name": "stderr",
     "output_type": "stream",
     "text": [
      "\r",
      " 99%|█████████▉| 397445/400000 [00:29<00:00, 25950.49it/s]"
     ]
    }
   ],
   "source": [
    "with open('LABEL.pkl', 'wb') as label: \n",
    "    pickle.dump(LABEL, label)"
   ]
  },
  {
   "cell_type": "code",
   "execution_count": 46,
   "metadata": {
    "colab": {
     "base_uri": "https://localhost:8080/"
    },
    "id": "eT5w7MCVgQSw",
    "outputId": "b54c7093-2553-490b-eedf-fdb67aaeae00"
   },
   "outputs": [
    {
     "name": "stdout",
     "output_type": "stream",
     "text": [
      "[('the', 13374), ('a', 9714), ('and', 8373), ('of', 8218), ('to', 5496), ('-', 5066), ('is', 4688), ('s', 4608), ('it', 4367), ('that', 3593), ('in', 3480), ('as', 2329), ('film', 2081), ('with', 2043), ('movie', 1969), ('but', 1969), ('for', 1869), ('this', 1867), ('an', 1748), ('its', 1721), ('you', 1561), ('t', 1240), ('be', 1233), ('n', 1224), ('on', 1220), ('one', 1098), ('not', 1056), ('by', 992), ('about', 975), ('--', 949), ('has', 944), ('more', 930), ('all', 917), ('are', 910), ('like', 904), ('from', 899), ('at', 898), ('than', 869), ('have', 838), ('his', 812), ('i', 802), ('so', 788), ('if', 706), ('or', 703), ('story', 649), ('out', 624), ('what', 610), ('who', 590), ('too', 584), ('there', 567)]\n"
     ]
    }
   ],
   "source": [
    "print(TEXT.vocab.freqs.most_common(50))"
   ]
  },
  {
   "cell_type": "code",
   "execution_count": 47,
   "metadata": {
    "colab": {
     "base_uri": "https://localhost:8080/"
    },
    "id": "5nP9s3gRgTio",
    "outputId": "3b988d51-9ec7-4b23-c59d-2a3afb3e94b3"
   },
   "outputs": [
    {
     "name": "stdout",
     "output_type": "stream",
     "text": [
      "['<unk>', '<pad>', 'the', 'a', 'and', 'of', 'to', '-', 'is', 's']\n"
     ]
    }
   ],
   "source": [
    "print(TEXT.vocab.itos[:10])"
   ]
  },
  {
   "cell_type": "code",
   "execution_count": 48,
   "metadata": {
    "colab": {
     "base_uri": "https://localhost:8080/"
    },
    "id": "pzJ2ltvMgWuh",
    "outputId": "a4ca3d75-b501-4ea9-a90e-261143f19311"
   },
   "outputs": [
    {
     "name": "stdout",
     "output_type": "stream",
     "text": [
      "defaultdict(None, {'4': 0, '0': 1, '3': 2, '1': 3, '2': 4})\n"
     ]
    }
   ],
   "source": [
    "print(LABEL.vocab.stoi)"
   ]
  },
  {
   "cell_type": "code",
   "execution_count": 49,
   "metadata": {
    "id": "2C8RBIiMgXSa"
   },
   "outputs": [],
   "source": [
    "BATCH_SIZE = 128\n",
    "\n",
    "device = torch.device('cuda' if torch.cuda.is_available() else 'cpu')\n",
    "\n",
    "train_iterator, test_iterator = torchtext.legacy.data.BucketIterator.splits(\n",
    "                                                                            (trn, tst),\n",
    "                                                                            batch_size = BATCH_SIZE,\n",
    "                                                                            sort_key = lambda x: len(x.sentence),\n",
    "                                                                            sort_within_batch= True, \n",
    "                                                                            device = device)"
   ]
  },
  {
   "cell_type": "code",
   "execution_count": 145,
   "metadata": {
    "id": "kbNnlnnaibD-"
   },
   "outputs": [],
   "source": [
    "class RNN(nn.Module):\n",
    "  \n",
    "  def __init__(self, vocab_size, embedding_dim, hidden_dim, output_dim, n_layers, bidirectional, dropout):\n",
    "    \n",
    "    super().__init__()\n",
    "\n",
    "    self.embedding = nn.Embedding(vocab_size, embedding_dim)\n",
    "\n",
    "    self.rnn = nn.GRU(embedding_dim, hidden_dim, num_layers = n_layers,\n",
    "                      bidirectional = bidirectional, dropout = dropout )\n",
    "    \n",
    "    self.fc = nn.Linear(hidden_dim*2, output_dim)\n",
    "\n",
    "    self.dropout = nn.Dropout(dropout)\n",
    "\n",
    "  def forward(self, text):\n",
    "\n",
    "    embedded =  self.dropout(self.embedding(text))\n",
    "\n",
    "    output, hidden = self.rnn(embedded)\n",
    "\n",
    "    hidden = self.dropout(torch.cat((hidden[-2,:,:], hidden[-1,:,:]), dim=1))\n",
    "\n",
    "    return self.fc(hidden.squeeze(0))"
   ]
  },
  {
   "cell_type": "code",
   "execution_count": 146,
   "metadata": {
    "id": "uLMz6kqnjg0U"
   },
   "outputs": [],
   "source": [
    "input_dim = len(TEXT.vocab)\n",
    "\n",
    "embedding_dim = 100\n",
    "\n",
    "hidden_dim  = 256\n",
    "\n",
    "output_dim = 5\n",
    "\n",
    "num_layers = 2\n",
    "\n",
    "bidirectional = True\n",
    "\n",
    "dropout = .3"
   ]
  },
  {
   "cell_type": "code",
   "execution_count": 147,
   "metadata": {
    "id": "KjuSfWzejmII"
   },
   "outputs": [],
   "source": [
    "model = RNN(input_dim, \n",
    "            embedding_dim,\n",
    "            hidden_dim,\n",
    "            output_dim,\n",
    "            num_layers,\n",
    "            bidirectional,\n",
    "            dropout)"
   ]
  },
  {
   "cell_type": "code",
   "execution_count": 148,
   "metadata": {
    "colab": {
     "base_uri": "https://localhost:8080/"
    },
    "id": "4cvElpKHjqZ2",
    "outputId": "d648a3c2-5eba-49be-b14b-3864aa305d52"
   },
   "outputs": [
    {
     "data": {
      "text/plain": [
       "RNN(\n",
       "  (embedding): Embedding(15365, 100)\n",
       "  (rnn): GRU(100, 256, num_layers=2, dropout=0.3, bidirectional=True)\n",
       "  (fc): Linear(in_features=512, out_features=5, bias=True)\n",
       "  (dropout): Dropout(p=0.3, inplace=False)\n",
       ")"
      ]
     },
     "execution_count": 148,
     "metadata": {
      "tags": []
     },
     "output_type": "execute_result"
    }
   ],
   "source": [
    "model"
   ]
  },
  {
   "cell_type": "code",
   "execution_count": 149,
   "metadata": {
    "colab": {
     "base_uri": "https://localhost:8080/"
    },
    "id": "zi0ZEb1DjrDd",
    "outputId": "005cbe30-72f5-4b14-8482-29555a8bba6c"
   },
   "outputs": [
    {
     "name": "stdout",
     "output_type": "stream",
     "text": [
      "torch.Size([15365, 100])\n"
     ]
    }
   ],
   "source": [
    "pretrained_embeddings = TEXT.vocab.vectors\n",
    "print(pretrained_embeddings.shape)"
   ]
  },
  {
   "cell_type": "code",
   "execution_count": 150,
   "metadata": {
    "colab": {
     "base_uri": "https://localhost:8080/"
    },
    "id": "dm5M7uyzkV66",
    "outputId": "ea409959-f20b-48e1-9f1b-423cfdc179a7"
   },
   "outputs": [
    {
     "data": {
      "text/plain": [
       "tensor([[-0.9054,  1.0998, -0.6870,  ...,  0.4289, -0.9859, -0.2622],\n",
       "        [ 0.3003,  0.2284,  0.3942,  ...,  0.1733,  1.0656,  0.3687],\n",
       "        [-0.0382, -0.2449,  0.7281,  ..., -0.1459,  0.8278,  0.2706],\n",
       "        ...,\n",
       "        [-0.0515, -0.3798, -0.5699,  ..., -0.0349,  0.3298,  1.1395],\n",
       "        [ 0.5719, -0.7835,  0.4352,  ..., -0.2164, -0.7241,  0.2962],\n",
       "        [ 0.2512,  0.6499, -0.2465,  ...,  0.0659, -0.9114,  0.4129]])"
      ]
     },
     "execution_count": 150,
     "metadata": {
      "tags": []
     },
     "output_type": "execute_result"
    }
   ],
   "source": [
    "model.embedding.weight.data.copy_(pretrained_embeddings)"
   ]
  },
  {
   "cell_type": "code",
   "execution_count": 151,
   "metadata": {
    "colab": {
     "base_uri": "https://localhost:8080/"
    },
    "id": "42RJCFxlkZaa",
    "outputId": "ac2b08a0-ec12-435e-9f5b-c3bb46c06b50"
   },
   "outputs": [
    {
     "name": "stdout",
     "output_type": "stream",
     "text": [
      "tensor([[ 0.0000,  0.0000,  0.0000,  ...,  0.0000,  0.0000,  0.0000],\n",
      "        [ 0.0000,  0.0000,  0.0000,  ...,  0.0000,  0.0000,  0.0000],\n",
      "        [-0.0382, -0.2449,  0.7281,  ..., -0.1459,  0.8278,  0.2706],\n",
      "        ...,\n",
      "        [-0.0515, -0.3798, -0.5699,  ..., -0.0349,  0.3298,  1.1395],\n",
      "        [ 0.5719, -0.7835,  0.4352,  ..., -0.2164, -0.7241,  0.2962],\n",
      "        [ 0.2512,  0.6499, -0.2465,  ...,  0.0659, -0.9114,  0.4129]])\n"
     ]
    }
   ],
   "source": [
    "unk_idx = TEXT.vocab.stoi[TEXT.unk_token]\n",
    "pad_idx = TEXT.vocab.stoi[TEXT.pad_token]\n",
    "\n",
    "model.embedding.weight.data[unk_idx] = torch.zeros(embedding_dim)\n",
    "model.embedding.weight.data[pad_idx] = torch.zeros(embedding_dim)\n",
    "\n",
    "print(model.embedding.weight.data)"
   ]
  },
  {
   "cell_type": "code",
   "execution_count": 152,
   "metadata": {
    "colab": {
     "base_uri": "https://localhost:8080/"
    },
    "id": "12wItuCx0fer",
    "outputId": "efebe793-ce2a-4d20-b1a1-421c5dae16fc"
   },
   "outputs": [
    {
     "name": "stdout",
     "output_type": "stream",
     "text": [
      "The model has 3,271,673 trainable parameters\n"
     ]
    }
   ],
   "source": [
    "def count_parameters(model):\n",
    "    return sum(p.numel() for p in model.parameters() if p.requires_grad)\n",
    "\n",
    "print(f'The model has {count_parameters(model):,} trainable parameters')"
   ]
  },
  {
   "cell_type": "code",
   "execution_count": 153,
   "metadata": {
    "id": "91pON0m5kch3"
   },
   "outputs": [],
   "source": [
    "optimizer = optim.Adam(model.parameters(), lr = 1e-5)\n",
    "criterion = nn.CrossEntropyLoss()"
   ]
  },
  {
   "cell_type": "code",
   "execution_count": 154,
   "metadata": {
    "id": "sXvTvYxplc1g"
   },
   "outputs": [],
   "source": [
    "# define metric\n",
    "def binary_accuracy(preds, y):\n",
    "    #round predictions to the closest integer\n",
    "    _, predictions = torch.max(preds, 1)\n",
    "    \n",
    "    correct = (predictions == y).float() \n",
    "    acc = correct.sum() / len(correct)\n",
    "    return acc\n",
    "    \n",
    "# push to cuda if available\n",
    "model = model.to(device)\n",
    "criterion = criterion.to(device)"
   ]
  },
  {
   "cell_type": "code",
   "execution_count": 155,
   "metadata": {
    "id": "Ag-ziayipMtM"
   },
   "outputs": [],
   "source": [
    "def train(model, iterator, optimizer, criterion):\n",
    "    \n",
    "    # initialize every epoch \n",
    "    epoch_loss = 0\n",
    "    epoch_acc = 0\n",
    "    \n",
    "    # set the model in training phase\n",
    "    model.train()  \n",
    "    \n",
    "    for batch in iterator:\n",
    "        \n",
    "        # resets the gradients after every batch\n",
    "        optimizer.zero_grad()   \n",
    "               \n",
    "        # convert to 1D tensor\n",
    "        predictions = model(batch.sentence).squeeze(1)\n",
    "        \n",
    "        # compute the loss\n",
    "        loss = criterion(predictions, batch.label.long())        \n",
    "        \n",
    "        # compute the binary accuracy\n",
    "        acc = binary_accuracy(predictions, batch.label.long())   \n",
    "        \n",
    "        # backpropage the loss and compute the gradients\n",
    "        loss.backward()       \n",
    "        \n",
    "        # update the weights\n",
    "        optimizer.step()      \n",
    "        \n",
    "        # loss and accuracy\n",
    "        epoch_loss += loss.item()  \n",
    "        epoch_acc += acc.item()    \n",
    "        \n",
    "    return epoch_loss / len(iterator), epoch_acc / len(iterator)"
   ]
  },
  {
   "cell_type": "code",
   "execution_count": 156,
   "metadata": {
    "id": "pUOvLA0zxdym"
   },
   "outputs": [],
   "source": [
    "def evaluate(model, iterator, criterion):\n",
    "    \n",
    "    # initialize every epoch\n",
    "    epoch_loss = 0\n",
    "    epoch_acc = 0\n",
    "\n",
    "    # deactivating dropout layers\n",
    "    model.eval()\n",
    "    \n",
    "    # deactivates autograd\n",
    "    with torch.no_grad():\n",
    "    \n",
    "        for batch in iterator:\n",
    "                   \n",
    "            # convert to 1d tensor\n",
    "            predictions = model(batch.sentence).squeeze(1)\n",
    "            \n",
    "            # compute loss and accuracy\n",
    "            loss = criterion(predictions, batch.label.long())\n",
    "            acc = binary_accuracy(predictions, batch.label.long())\n",
    "            \n",
    "            # keep track of loss and accuracy\n",
    "            epoch_loss += loss.item()\n",
    "            epoch_acc += acc.item()\n",
    "        \n",
    "    return epoch_loss / len(iterator), epoch_acc / len(iterator)"
   ]
  },
  {
   "cell_type": "code",
   "execution_count": 157,
   "metadata": {
    "colab": {
     "base_uri": "https://localhost:8080/"
    },
    "id": "N7uWRRo3xkcA",
    "outputId": "6870005c-00d9-4812-f6ae-90dbcc67686c"
   },
   "outputs": [
    {
     "name": "stdout",
     "output_type": "stream",
     "text": [
      "Epoch: 1\n",
      "\tTrain Loss: 1.608 | Train Acc: 21.31%\n",
      "\t Val. Loss: 1.608 |  Val. Acc: 22.71% \n",
      "\n",
      "Epoch: 2\n",
      "\tTrain Loss: 1.600 | Train Acc: 25.64%\n",
      "\t Val. Loss: 1.603 |  Val. Acc: 23.22% \n",
      "\n",
      "Epoch: 3\n",
      "\tTrain Loss: 1.592 | Train Acc: 27.79%\n",
      "\t Val. Loss: 1.594 |  Val. Acc: 25.44% \n",
      "\n",
      "Epoch: 4\n",
      "\tTrain Loss: 1.584 | Train Acc: 29.17%\n",
      "\t Val. Loss: 1.587 |  Val. Acc: 25.10% \n",
      "\n",
      "Epoch: 5\n",
      "\tTrain Loss: 1.573 | Train Acc: 29.80%\n",
      "\t Val. Loss: 1.574 |  Val. Acc: 26.88% \n",
      "\n",
      "Epoch: 6\n",
      "\tTrain Loss: 1.560 | Train Acc: 30.97%\n",
      "\t Val. Loss: 1.561 |  Val. Acc: 26.84% \n",
      "\n",
      "Epoch: 7\n",
      "\tTrain Loss: 1.541 | Train Acc: 31.63%\n",
      "\t Val. Loss: 1.539 |  Val. Acc: 27.30% \n",
      "\n",
      "Epoch: 8\n",
      "\tTrain Loss: 1.516 | Train Acc: 32.74%\n",
      "\t Val. Loss: 1.512 |  Val. Acc: 26.65% \n",
      "\n",
      "Epoch: 9\n",
      "\tTrain Loss: 1.492 | Train Acc: 33.13%\n",
      "\t Val. Loss: 1.485 |  Val. Acc: 27.50% \n",
      "\n",
      "Epoch: 10\n",
      "\tTrain Loss: 1.472 | Train Acc: 34.20%\n",
      "\t Val. Loss: 1.470 |  Val. Acc: 27.11% \n",
      "\n",
      "Epoch: 11\n",
      "\tTrain Loss: 1.454 | Train Acc: 35.38%\n",
      "\t Val. Loss: 1.448 |  Val. Acc: 29.44% \n",
      "\n",
      "Epoch: 12\n",
      "\tTrain Loss: 1.445 | Train Acc: 35.79%\n",
      "\t Val. Loss: 1.436 |  Val. Acc: 31.17% \n",
      "\n",
      "Epoch: 13\n",
      "\tTrain Loss: 1.437 | Train Acc: 36.25%\n",
      "\t Val. Loss: 1.430 |  Val. Acc: 32.05% \n",
      "\n",
      "Epoch: 14\n",
      "\tTrain Loss: 1.433 | Train Acc: 36.18%\n",
      "\t Val. Loss: 1.428 |  Val. Acc: 30.81% \n",
      "\n",
      "Epoch: 15\n",
      "\tTrain Loss: 1.427 | Train Acc: 36.31%\n",
      "\t Val. Loss: 1.420 |  Val. Acc: 31.62% \n",
      "\n",
      "Epoch: 16\n",
      "\tTrain Loss: 1.424 | Train Acc: 36.81%\n",
      "\t Val. Loss: 1.416 |  Val. Acc: 32.23% \n",
      "\n",
      "Epoch: 17\n",
      "\tTrain Loss: 1.418 | Train Acc: 36.70%\n",
      "\t Val. Loss: 1.414 |  Val. Acc: 32.65% \n",
      "\n",
      "Epoch: 18\n",
      "\tTrain Loss: 1.415 | Train Acc: 37.22%\n",
      "\t Val. Loss: 1.408 |  Val. Acc: 32.61% \n",
      "\n",
      "Epoch: 19\n",
      "\tTrain Loss: 1.410 | Train Acc: 37.66%\n",
      "\t Val. Loss: 1.405 |  Val. Acc: 33.03% \n",
      "\n",
      "Epoch: 20\n",
      "\tTrain Loss: 1.408 | Train Acc: 37.58%\n",
      "\t Val. Loss: 1.405 |  Val. Acc: 33.22% \n",
      "\n",
      "Epoch: 21\n",
      "\tTrain Loss: 1.407 | Train Acc: 37.31%\n",
      "\t Val. Loss: 1.400 |  Val. Acc: 33.07% \n",
      "\n",
      "Epoch: 22\n",
      "\tTrain Loss: 1.404 | Train Acc: 37.45%\n",
      "\t Val. Loss: 1.399 |  Val. Acc: 33.69% \n",
      "\n",
      "Epoch: 23\n",
      "\tTrain Loss: 1.398 | Train Acc: 37.91%\n",
      "\t Val. Loss: 1.395 |  Val. Acc: 34.00% \n",
      "\n",
      "Epoch: 24\n",
      "\tTrain Loss: 1.400 | Train Acc: 37.89%\n",
      "\t Val. Loss: 1.392 |  Val. Acc: 34.04% \n",
      "\n",
      "Epoch: 25\n",
      "\tTrain Loss: 1.394 | Train Acc: 38.05%\n",
      "\t Val. Loss: 1.389 |  Val. Acc: 35.38% \n",
      "\n",
      "Epoch: 26\n",
      "\tTrain Loss: 1.393 | Train Acc: 38.59%\n",
      "\t Val. Loss: 1.388 |  Val. Acc: 34.95% \n",
      "\n",
      "Epoch: 27\n",
      "\tTrain Loss: 1.389 | Train Acc: 38.72%\n",
      "\t Val. Loss: 1.383 |  Val. Acc: 35.99% \n",
      "\n",
      "Epoch: 28\n",
      "\tTrain Loss: 1.383 | Train Acc: 38.87%\n",
      "\t Val. Loss: 1.381 |  Val. Acc: 36.46% \n",
      "\n",
      "Epoch: 29\n",
      "\tTrain Loss: 1.385 | Train Acc: 38.83%\n",
      "\t Val. Loss: 1.383 |  Val. Acc: 35.30% \n",
      "\n",
      "Epoch: 30\n",
      "\tTrain Loss: 1.378 | Train Acc: 38.75%\n",
      "\t Val. Loss: 1.381 |  Val. Acc: 35.41% \n",
      "\n",
      "Epoch: 31\n",
      "\tTrain Loss: 1.373 | Train Acc: 39.59%\n",
      "\t Val. Loss: 1.375 |  Val. Acc: 37.23% \n",
      "\n",
      "Epoch: 32\n",
      "\tTrain Loss: 1.377 | Train Acc: 39.07%\n",
      "\t Val. Loss: 1.377 |  Val. Acc: 36.05% \n",
      "\n",
      "Epoch: 33\n",
      "\tTrain Loss: 1.371 | Train Acc: 39.39%\n",
      "\t Val. Loss: 1.371 |  Val. Acc: 37.63% \n",
      "\n",
      "Epoch: 34\n",
      "\tTrain Loss: 1.368 | Train Acc: 39.98%\n",
      "\t Val. Loss: 1.377 |  Val. Acc: 36.50% \n",
      "\n",
      "Epoch: 35\n",
      "\tTrain Loss: 1.366 | Train Acc: 39.75%\n",
      "\t Val. Loss: 1.368 |  Val. Acc: 37.64% \n",
      "\n",
      "Epoch: 36\n",
      "\tTrain Loss: 1.364 | Train Acc: 39.87%\n",
      "\t Val. Loss: 1.366 |  Val. Acc: 38.18% \n",
      "\n",
      "Epoch: 37\n",
      "\tTrain Loss: 1.361 | Train Acc: 39.91%\n",
      "\t Val. Loss: 1.371 |  Val. Acc: 37.10% \n",
      "\n",
      "Epoch: 38\n",
      "\tTrain Loss: 1.359 | Train Acc: 40.18%\n",
      "\t Val. Loss: 1.364 |  Val. Acc: 38.10% \n",
      "\n",
      "Epoch: 39\n",
      "\tTrain Loss: 1.356 | Train Acc: 40.53%\n",
      "\t Val. Loss: 1.365 |  Val. Acc: 37.07% \n",
      "\n",
      "Epoch: 40\n",
      "\tTrain Loss: 1.351 | Train Acc: 40.73%\n",
      "\t Val. Loss: 1.361 |  Val. Acc: 38.09% \n",
      "\n",
      "Epoch: 41\n",
      "\tTrain Loss: 1.348 | Train Acc: 40.62%\n",
      "\t Val. Loss: 1.360 |  Val. Acc: 37.57% \n",
      "\n",
      "Epoch: 42\n",
      "\tTrain Loss: 1.346 | Train Acc: 41.13%\n",
      "\t Val. Loss: 1.358 |  Val. Acc: 38.01% \n",
      "\n",
      "Epoch: 43\n",
      "\tTrain Loss: 1.349 | Train Acc: 40.69%\n",
      "\t Val. Loss: 1.356 |  Val. Acc: 38.26% \n",
      "\n",
      "Epoch: 44\n",
      "\tTrain Loss: 1.344 | Train Acc: 40.65%\n",
      "\t Val. Loss: 1.354 |  Val. Acc: 38.09% \n",
      "\n",
      "Epoch: 45\n",
      "\tTrain Loss: 1.341 | Train Acc: 41.39%\n",
      "\t Val. Loss: 1.357 |  Val. Acc: 37.76% \n",
      "\n",
      "Epoch: 46\n",
      "\tTrain Loss: 1.338 | Train Acc: 40.88%\n",
      "\t Val. Loss: 1.349 |  Val. Acc: 38.53% \n",
      "\n",
      "Epoch: 47\n",
      "\tTrain Loss: 1.334 | Train Acc: 41.73%\n",
      "\t Val. Loss: 1.345 |  Val. Acc: 39.62% \n",
      "\n",
      "Epoch: 48\n",
      "\tTrain Loss: 1.336 | Train Acc: 41.56%\n",
      "\t Val. Loss: 1.347 |  Val. Acc: 38.92% \n",
      "\n",
      "Epoch: 49\n",
      "\tTrain Loss: 1.331 | Train Acc: 41.84%\n",
      "\t Val. Loss: 1.348 |  Val. Acc: 39.16% \n",
      "\n",
      "Epoch: 50\n",
      "\tTrain Loss: 1.330 | Train Acc: 41.73%\n",
      "\t Val. Loss: 1.344 |  Val. Acc: 39.43% \n",
      "\n",
      "Epoch: 51\n",
      "\tTrain Loss: 1.327 | Train Acc: 41.75%\n",
      "\t Val. Loss: 1.343 |  Val. Acc: 38.71% \n",
      "\n",
      "Epoch: 52\n",
      "\tTrain Loss: 1.323 | Train Acc: 42.03%\n",
      "\t Val. Loss: 1.341 |  Val. Acc: 39.60% \n",
      "\n",
      "Epoch: 53\n",
      "\tTrain Loss: 1.322 | Train Acc: 42.10%\n",
      "\t Val. Loss: 1.340 |  Val. Acc: 39.65% \n",
      "\n",
      "Epoch: 54\n",
      "\tTrain Loss: 1.319 | Train Acc: 42.17%\n",
      "\t Val. Loss: 1.337 |  Val. Acc: 39.94% \n",
      "\n",
      "Epoch: 55\n",
      "\tTrain Loss: 1.317 | Train Acc: 42.86%\n",
      "\t Val. Loss: 1.340 |  Val. Acc: 38.53% \n",
      "\n",
      "Epoch: 56\n",
      "\tTrain Loss: 1.318 | Train Acc: 42.66%\n",
      "\t Val. Loss: 1.332 |  Val. Acc: 40.32% \n",
      "\n",
      "Epoch: 57\n",
      "\tTrain Loss: 1.313 | Train Acc: 42.61%\n",
      "\t Val. Loss: 1.333 |  Val. Acc: 40.67% \n",
      "\n",
      "Epoch: 58\n",
      "\tTrain Loss: 1.314 | Train Acc: 42.61%\n",
      "\t Val. Loss: 1.335 |  Val. Acc: 40.41% \n",
      "\n",
      "Epoch: 59\n",
      "\tTrain Loss: 1.308 | Train Acc: 42.80%\n",
      "\t Val. Loss: 1.335 |  Val. Acc: 39.34% \n",
      "\n",
      "Epoch: 60\n",
      "\tTrain Loss: 1.306 | Train Acc: 43.48%\n",
      "\t Val. Loss: 1.334 |  Val. Acc: 40.03% \n",
      "\n",
      "Epoch: 61\n",
      "\tTrain Loss: 1.303 | Train Acc: 43.37%\n",
      "\t Val. Loss: 1.330 |  Val. Acc: 40.16% \n",
      "\n",
      "Epoch: 62\n",
      "\tTrain Loss: 1.303 | Train Acc: 43.09%\n",
      "\t Val. Loss: 1.329 |  Val. Acc: 39.96% \n",
      "\n",
      "Epoch: 63\n",
      "\tTrain Loss: 1.300 | Train Acc: 43.33%\n",
      "\t Val. Loss: 1.331 |  Val. Acc: 39.69% \n",
      "\n",
      "Epoch: 64\n",
      "\tTrain Loss: 1.296 | Train Acc: 43.12%\n",
      "\t Val. Loss: 1.325 |  Val. Acc: 40.84% \n",
      "\n",
      "Epoch: 65\n",
      "\tTrain Loss: 1.296 | Train Acc: 43.48%\n",
      "\t Val. Loss: 1.323 |  Val. Acc: 40.48% \n",
      "\n",
      "Epoch: 66\n",
      "\tTrain Loss: 1.292 | Train Acc: 43.79%\n",
      "\t Val. Loss: 1.317 |  Val. Acc: 41.95% \n",
      "\n",
      "Epoch: 67\n",
      "\tTrain Loss: 1.289 | Train Acc: 43.93%\n",
      "\t Val. Loss: 1.317 |  Val. Acc: 41.09% \n",
      "\n",
      "Epoch: 68\n",
      "\tTrain Loss: 1.289 | Train Acc: 43.85%\n",
      "\t Val. Loss: 1.321 |  Val. Acc: 40.30% \n",
      "\n",
      "Epoch: 69\n",
      "\tTrain Loss: 1.285 | Train Acc: 44.62%\n",
      "\t Val. Loss: 1.325 |  Val. Acc: 40.49% \n",
      "\n",
      "Epoch: 70\n",
      "\tTrain Loss: 1.281 | Train Acc: 44.15%\n",
      "\t Val. Loss: 1.318 |  Val. Acc: 40.38% \n",
      "\n",
      "Epoch: 71\n",
      "\tTrain Loss: 1.280 | Train Acc: 44.63%\n",
      "\t Val. Loss: 1.321 |  Val. Acc: 41.26% \n",
      "\n",
      "Epoch: 72\n",
      "\tTrain Loss: 1.276 | Train Acc: 44.55%\n",
      "\t Val. Loss: 1.320 |  Val. Acc: 40.35% \n",
      "\n",
      "Epoch: 73\n",
      "\tTrain Loss: 1.277 | Train Acc: 44.32%\n",
      "\t Val. Loss: 1.321 |  Val. Acc: 40.42% \n",
      "\n",
      "Epoch: 74\n",
      "\tTrain Loss: 1.280 | Train Acc: 44.45%\n",
      "\t Val. Loss: 1.316 |  Val. Acc: 41.70% \n",
      "\n",
      "Epoch: 75\n",
      "\tTrain Loss: 1.270 | Train Acc: 45.25%\n",
      "\t Val. Loss: 1.310 |  Val. Acc: 42.05% \n",
      "\n",
      "Epoch: 76\n",
      "\tTrain Loss: 1.270 | Train Acc: 45.19%\n",
      "\t Val. Loss: 1.320 |  Val. Acc: 40.85% \n",
      "\n",
      "Epoch: 77\n",
      "\tTrain Loss: 1.266 | Train Acc: 45.19%\n",
      "\t Val. Loss: 1.310 |  Val. Acc: 42.03% \n",
      "\n",
      "Epoch: 78\n",
      "\tTrain Loss: 1.266 | Train Acc: 45.03%\n",
      "\t Val. Loss: 1.312 |  Val. Acc: 41.82% \n",
      "\n",
      "Epoch: 79\n",
      "\tTrain Loss: 1.262 | Train Acc: 45.66%\n",
      "\t Val. Loss: 1.312 |  Val. Acc: 42.22% \n",
      "\n",
      "Epoch: 80\n",
      "\tTrain Loss: 1.259 | Train Acc: 45.68%\n",
      "\t Val. Loss: 1.309 |  Val. Acc: 42.42% \n",
      "\n",
      "Epoch: 81\n",
      "\tTrain Loss: 1.258 | Train Acc: 45.56%\n",
      "\t Val. Loss: 1.307 |  Val. Acc: 42.77% \n",
      "\n",
      "Epoch: 82\n",
      "\tTrain Loss: 1.269 | Train Acc: 44.74%\n",
      "\t Val. Loss: 1.324 |  Val. Acc: 39.69% \n",
      "\n",
      "Epoch: 83\n",
      "\tTrain Loss: 1.250 | Train Acc: 46.16%\n",
      "\t Val. Loss: 1.310 |  Val. Acc: 41.01% \n",
      "\n",
      "Epoch: 84\n",
      "\tTrain Loss: 1.232 | Train Acc: 47.17%\n",
      "\t Val. Loss: 1.333 |  Val. Acc: 38.07% \n",
      "\n",
      "Epoch: 85\n",
      "\tTrain Loss: 1.215 | Train Acc: 47.98%\n",
      "\t Val. Loss: 1.296 |  Val. Acc: 41.92% \n",
      "\n",
      "Epoch: 86\n",
      "\tTrain Loss: 1.204 | Train Acc: 47.85%\n",
      "\t Val. Loss: 1.294 |  Val. Acc: 39.97% \n",
      "\n",
      "Epoch: 87\n",
      "\tTrain Loss: 1.185 | Train Acc: 49.16%\n",
      "\t Val. Loss: 1.288 |  Val. Acc: 41.85% \n",
      "\n",
      "Epoch: 88\n",
      "\tTrain Loss: 1.165 | Train Acc: 50.67%\n",
      "\t Val. Loss: 1.288 |  Val. Acc: 42.93% \n",
      "\n",
      "Epoch: 89\n",
      "\tTrain Loss: 1.152 | Train Acc: 51.02%\n",
      "\t Val. Loss: 1.295 |  Val. Acc: 41.58% \n",
      "\n",
      "Epoch: 90\n",
      "\tTrain Loss: 1.134 | Train Acc: 51.68%\n",
      "\t Val. Loss: 1.282 |  Val. Acc: 42.72% \n",
      "\n",
      "Epoch: 91\n",
      "\tTrain Loss: 1.126 | Train Acc: 51.61%\n",
      "\t Val. Loss: 1.302 |  Val. Acc: 40.86% \n",
      "\n",
      "Epoch: 92\n",
      "\tTrain Loss: 1.115 | Train Acc: 52.86%\n",
      "\t Val. Loss: 1.291 |  Val. Acc: 42.18% \n",
      "\n",
      "Epoch: 93\n",
      "\tTrain Loss: 1.090 | Train Acc: 54.00%\n",
      "\t Val. Loss: 1.321 |  Val. Acc: 40.00% \n",
      "\n",
      "Epoch: 94\n",
      "\tTrain Loss: 1.081 | Train Acc: 53.75%\n",
      "\t Val. Loss: 1.300 |  Val. Acc: 42.92% \n",
      "\n",
      "Epoch: 95\n",
      "\tTrain Loss: 1.065 | Train Acc: 54.63%\n",
      "\t Val. Loss: 1.277 |  Val. Acc: 42.79% \n",
      "\n",
      "Epoch: 96\n",
      "\tTrain Loss: 1.045 | Train Acc: 56.14%\n",
      "\t Val. Loss: 1.291 |  Val. Acc: 42.35% \n",
      "\n",
      "Epoch: 97\n",
      "\tTrain Loss: 1.037 | Train Acc: 56.58%\n",
      "\t Val. Loss: 1.277 |  Val. Acc: 43.65% \n",
      "\n",
      "Epoch: 98\n",
      "\tTrain Loss: 1.025 | Train Acc: 57.19%\n",
      "\t Val. Loss: 1.297 |  Val. Acc: 42.38% \n",
      "\n",
      "Epoch: 99\n",
      "\tTrain Loss: 1.012 | Train Acc: 57.76%\n",
      "\t Val. Loss: 1.316 |  Val. Acc: 42.87% \n",
      "\n",
      "Epoch: 100\n",
      "\tTrain Loss: 0.992 | Train Acc: 58.23%\n",
      "\t Val. Loss: 1.305 |  Val. Acc: 43.64% \n",
      "\n"
     ]
    }
   ],
   "source": [
    "N_EPOCHS = 100\n",
    "\n",
    "best_test_loss = float('inf')\n",
    "\n",
    "trn_loss = [] \n",
    "trn_acc = []\n",
    "tst_loss = [] \n",
    "tst_acc = [] \n",
    "\n",
    "for epoch in range(N_EPOCHS):\n",
    "\n",
    "    if epoch > 80:\n",
    "      optimizer = optim.Adam(model.parameters(), lr = 1e-4)\n",
    "     \n",
    "    # train the model\n",
    "    train_loss, train_acc = train(model, train_iterator, optimizer, criterion)\n",
    "    trn_loss.append(train_loss)\n",
    "    trn_acc.append(train_acc*100)\n",
    "    \n",
    "    # evaluate the model\n",
    "    test_loss, test_acc = evaluate(model, test_iterator, criterion)\n",
    "    tst_loss.append(test_loss)\n",
    "    tst_acc.append(test_acc*100)\n",
    "    \n",
    "    # # save the best model\n",
    "    # if test_loss < best_test_loss:\n",
    "    #     best_test_loss = test_loss\n",
    "    #     torch.save(model.state_dict(), 'saved_weights.pt')\n",
    "    \n",
    "    print(f'Epoch: {epoch+1}')\n",
    "    print(f'\\tTrain Loss: {train_loss:.3f} | Train Acc: {train_acc*100:.2f}%')\n",
    "    print(f'\\t Val. Loss: {test_loss:.3f} |  Val. Acc: {test_acc*100:.2f}% \\n')"
   ]
  },
  {
   "cell_type": "markdown",
   "metadata": {
    "id": "QMYMnInl7ELn"
   },
   "source": [
    "## Train test logs"
   ]
  },
  {
   "cell_type": "code",
   "execution_count": 158,
   "metadata": {
    "colab": {
     "base_uri": "https://localhost:8080/",
     "height": 626
    },
    "id": "kF1uOy2P_wJJ",
    "outputId": "dff69f51-e86c-4b57-cdc0-bf2821ddfc11"
   },
   "outputs": [
    {
     "data": {
      "text/plain": [
       "Text(0.5, 1.0, 'Accuracy')"
      ]
     },
     "execution_count": 158,
     "metadata": {
      "tags": []
     },
     "output_type": "execute_result"
    },
    {
     "data": {
      "image/png": "[encoded data removed]",
      "text/plain": [
       "<Figure size 1440x720 with 2 Axes>"
      ]
     },
     "metadata": {
      "tags": []
     },
     "output_type": "display_data"
    }
   ],
   "source": [
    "plt.style.use('ggplot')\n",
    "\n",
    "fig, axs = plt.subplots(1,2,figsize=(20,10))\n",
    "\n",
    "axs[0].plot(trn_loss, label = 'train loss')\n",
    "axs[0].plot(tst_loss, label = 'test loss')\n",
    "axs[0].legend(loc=\"upper right\")\n",
    "axs[0].set_title(\"Loss\")\n",
    "\n",
    "axs[1].plot(trn_acc,  label = 'train accuracy')\n",
    "axs[1].plot(tst_acc,  label = 'test accuracy')\n",
    "axs[1].legend(loc=\"lower right\")\n",
    "axs[1].set_title(\"Accuracy\")"
   ]
  },
  {
   "cell_type": "markdown",
   "metadata": {
    "id": "m0hmbLj66PwC"
   },
   "source": [
    "## Validate model results"
   ]
  },
  {
   "cell_type": "code",
   "execution_count": 86,
   "metadata": {
    "id": "D70yvXGF5P0z"
   },
   "outputs": [],
   "source": [
    "def test_model(sentence):\n",
    "  tokenized = [tok.text for tok in nlp.tokenizer(sentence)]\n",
    "  indexed = [TEXT.vocab.stoi[t] for t in tokenized]\n",
    "  tensor = torch.LongTensor(indexed)\n",
    "  tensor = tensor.unsqueeze(1).to(device)\n",
    "\n",
    "  model.eval()\n",
    "  prediction = model(tensor)\n",
    "\n",
    "  return( [\"very negative\", \"negative\", \"neutral\", \"positive\", \"very positive\"][torch.argmax(prediction, dim=0).item()] )"
   ]
  },
  {
   "cell_type": "code",
   "execution_count": 87,
   "metadata": {
    "colab": {
     "base_uri": "https://localhost:8080/",
     "height": 35
    },
    "id": "q9COHXP380bR",
    "outputId": "f2b1db1d-ffb6-4804-e41b-7a8a74bb04d5"
   },
   "outputs": [
    {
     "data": {
      "application/vnd.google.colaboratory.intrinsic+json": {
       "type": "string"
      },
      "text/plain": [
       "'negative'"
      ]
     },
     "execution_count": 87,
     "metadata": {
      "tags": []
     },
     "output_type": "execute_result"
    }
   ],
   "source": [
    "sentence = 'That movie was really very bad'\n",
    "test_model(sentence)"
   ]
  },
  {
   "cell_type": "code",
   "execution_count": 108,
   "metadata": {
    "colab": {
     "base_uri": "https://localhost:8080/",
     "height": 35
    },
    "id": "pdZyGQ2y86Jv",
    "outputId": "527700c8-6eca-4d2b-c619-f7f414dbde37"
   },
   "outputs": [
    {
     "data": {
      "application/vnd.google.colaboratory.intrinsic+json": {
       "type": "string"
      },
      "text/plain": [
       "'very negative'"
      ]
     },
     "execution_count": 108,
     "metadata": {
      "tags": []
     },
     "output_type": "execute_result"
    }
   ],
   "source": [
    "sentence = 'That match between teams was great'\n",
    "test_model(sentence)"
   ]
  },
  {
   "cell_type": "code",
   "execution_count": 92,
   "metadata": {
    "colab": {
     "base_uri": "https://localhost:8080/",
     "height": 35
    },
    "id": "qzx4RqmM9A6q",
    "outputId": "c44556e8-455b-4466-94e1-ecfdd7a3ed2a"
   },
   "outputs": [
    {
     "data": {
      "application/vnd.google.colaboratory.intrinsic+json": {
       "type": "string"
      },
      "text/plain": [
       "'very positive'"
      ]
     },
     "execution_count": 92,
     "metadata": {
      "tags": []
     },
     "output_type": "execute_result"
    }
   ],
   "source": [
    "sentence = 'I am liking END course'\n",
    "test_model(sentence)"
   ]
  },
  {
   "cell_type": "code",
   "execution_count": 93,
   "metadata": {
    "colab": {
     "base_uri": "https://localhost:8080/",
     "height": 35
    },
    "id": "wPvz0zPn9PIj",
    "outputId": "8f7ae91f-cd46-45c7-b7d1-528c2f9a8e75"
   },
   "outputs": [
    {
     "data": {
      "application/vnd.google.colaboratory.intrinsic+json": {
       "type": "string"
      },
      "text/plain": [
       "'negative'"
      ]
     },
     "execution_count": 93,
     "metadata": {
      "tags": []
     },
     "output_type": "execute_result"
    }
   ],
   "source": [
    "sentence = 'Covid is all over'\n",
    "test_model(sentence)"
   ]
  },
  {
   "cell_type": "code",
   "execution_count": 94,
   "metadata": {
    "colab": {
     "base_uri": "https://localhost:8080/",
     "height": 35
    },
    "id": "8Q_TSR8d9Wpp",
    "outputId": "ae668383-6b7d-450a-c65d-89ab178148e6"
   },
   "outputs": [
    {
     "data": {
      "application/vnd.google.colaboratory.intrinsic+json": {
       "type": "string"
      },
      "text/plain": [
       "'negative'"
      ]
     },
     "execution_count": 94,
     "metadata": {
      "tags": []
     },
     "output_type": "execute_result"
    }
   ],
   "source": [
    "sentence = 'That movie was really pathetic'\n",
    "test_model(sentence)"
   ]
  },
  {
   "cell_type": "markdown",
   "metadata": {
    "id": "Pm_bzqYTACO8"
   },
   "source": [
    "## Validate results on test data"
   ]
  },
  {
   "cell_type": "code",
   "execution_count": 111,
   "metadata": {
    "colab": {
     "base_uri": "https://localhost:8080/"
    },
    "id": "NsfKYlMK9goT",
    "outputId": "f3827b7b-75c9-4b46-a575-01ac1fe6cce3"
   },
   "outputs": [
    {
     "data": {
      "text/plain": [
       "('neutral',\n",
       " 'neutral',\n",
       " \"Hip-hop has a history , and it 's a metaphor for this love story .\")"
      ]
     },
     "execution_count": 111,
     "metadata": {
      "tags": []
     },
     "output_type": "execute_result"
    }
   ],
   "source": [
    "sentence = test.sentence[111]\n",
    "label = test.label[111]\n",
    "test_model(sentence), [\"very negative\", \"negative\", \"neutral\", \"positive\", \"very positive\"][label], sentence"
   ]
  },
  {
   "cell_type": "code",
   "execution_count": 106,
   "metadata": {
    "colab": {
     "base_uri": "https://localhost:8080/"
    },
    "id": "mo5xbybC-dDv",
    "outputId": "fda7f922-1e8b-4c8f-db49-6bd25b0712fc"
   },
   "outputs": [
    {
     "data": {
      "text/plain": [
       "('very negative',\n",
       " 'very positive',\n",
       " \"The best movie of its kind since ` Brazil . '\")"
      ]
     },
     "execution_count": 106,
     "metadata": {
      "tags": []
     },
     "output_type": "execute_result"
    }
   ],
   "source": [
    "sentence = test.sentence[403]\n",
    "label = test.label[403]\n",
    "test_model(sentence), [\"very negative\", \"negative\", \"neutral\", \"positive\", \"very positive\"][label], sentence"
   ]
  },
  {
   "cell_type": "code",
   "execution_count": 117,
   "metadata": {
    "colab": {
     "base_uri": "https://localhost:8080/"
    },
    "id": "Ni8mOBwI-iD0",
    "outputId": "6b03b9c7-c3bf-4e61-dd12-c965c2b40be2"
   },
   "outputs": [
    {
     "data": {
      "text/plain": [
       "('very negative',\n",
       " 'neutral',\n",
       " 'The actors are so terrific at conveying their young angst , we do indeed feel for them .')"
      ]
     },
     "execution_count": 117,
     "metadata": {
      "tags": []
     },
     "output_type": "execute_result"
    }
   ],
   "source": [
    "sentence = test.sentence[906]\n",
    "label = test.label[906]\n",
    "test_model(sentence), [\"very negative\", \"negative\", \"neutral\", \"positive\", \"very positive\"][label], sentence"
   ]
  },
  {
   "cell_type": "code",
   "execution_count": 159,
   "metadata": {
    "colab": {
     "base_uri": "https://localhost:8080/"
    },
    "id": "cWnYQWCo_VaP",
    "outputId": "e9d514ec-573b-404b-d84e-1207cc3565d0"
   },
   "outputs": [
    {
     "data": {
      "text/plain": [
       "('negative',\n",
       " 'very negative',\n",
       " 'Even by dumb action-movie standards , Ballistic : Ecks vs. Sever is a dumb action movie .')"
      ]
     },
     "execution_count": 159,
     "metadata": {
      "tags": []
     },
     "output_type": "execute_result"
    }
   ],
   "source": [
    "sentence = test.sentence[2000]\n",
    "label = test.label[2000]\n",
    "test_model(sentence), [\"very negative\", \"negative\", \"neutral\", \"positive\", \"very positive\"][label], sentence"
   ]
  },
  {
   "cell_type": "code",
   "execution_count": 160,
   "metadata": {
    "colab": {
     "base_uri": "https://localhost:8080/"
    },
    "id": "Ij0eusPNCqbb",
    "outputId": "07d9286e-18a1-4116-bb13-e67f89028d31"
   },
   "outputs": [
    {
     "data": {
      "text/plain": [
       "('negative',\n",
       " 'negative',\n",
       " 'The film equivalent of a toy chest whose contents get scattered over the course of 80 minutes .')"
      ]
     },
     "execution_count": 160,
     "metadata": {
      "tags": []
     },
     "output_type": "execute_result"
    }
   ],
   "source": [
    "sentence = test.sentence[2001]\n",
    "label = test.label[2001]\n",
    "test_model(sentence), [\"very negative\", \"negative\", \"neutral\", \"positive\", \"very positive\"][label], sentence"
   ]
  },
  {
   "cell_type": "code",
   "execution_count": null,
   "metadata": {
    "id": "dNcTZJrMCuht"
   },
   "outputs": [],
   "source": []
  }
 ],
 "metadata": {
  "accelerator": "GPU",
  "colab": {
   "name": "Session5.ipynb",
   "provenance": [],
   "toc_visible": true
  },
  "kernelspec": {
   "display_name": "Python 3",
   "language": "python",
   "name": "python3"
  },
  "language_info": {
   "codemirror_mode": {
    "name": "ipython",
    "version": 3
   },
   "file_extension": ".py",
   "mimetype": "text/x-python",
   "name": "python",
   "nbconvert_exporter": "python",
   "pygments_lexer": "ipython3",
   "version": "3.7.7"
  },
  "toc": {
   "base_numbering": 1,
   "nav_menu": {},
   "number_sections": true,
   "sideBar": true,
   "skip_h1_title": false,
   "title_cell": "Table of Contents",
   "title_sidebar": "Contents",
   "toc_cell": false,
   "toc_position": {},
   "toc_section_display": true,
   "toc_window_display": false
  },
  "varInspector": {
   "cols": {
    "lenName": 16,
    "lenType": 16,
    "lenVar": 40
   },
   "kernels_config": {
    "python": {
     "delete_cmd_postfix": "",
     "delete_cmd_prefix": "del ",
     "library": "var_list.py",
     "varRefreshCmd": "print(var_dic_list())"
    },
    "r": {
     "delete_cmd_postfix": ") ",
     "delete_cmd_prefix": "rm(",
     "library": "var_list.r",
     "varRefreshCmd": "cat(var_dic_list()) "
    }
   },
   "types_to_exclude": [
    "module",
    "function",
    "builtin_function_or_method",
    "instance",
    "_Feature"
   ],
   "window_display": false
  }
 },
 "nbformat": 4,
 "nbformat_minor": 1
}
