{
  "nbformat": 4,
  "nbformat_minor": 0,
  "metadata": {
    "colab": {
      "name": "Session7_SST_DS.ipynb",
      "provenance": []
    },
    "kernelspec": {
      "name": "python3",
      "display_name": "Python 3"
    },
    "language_info": {
      "name": "python"
    },
    "accelerator": "GPU"
  },
  "cells": [
    {
      "cell_type": "markdown",
      "metadata": {
        "id": "dzv-hxJYXHz9"
      },
      "source": [
        "### This is a repeat assignment. I have used the pytreebank package last time to get the SST dataset. Here we will create the dataset on our own."
      ]
    },
    {
      "cell_type": "code",
      "metadata": {
        "colab": {
          "base_uri": "https://localhost:8080/"
        },
        "id": "8coQdUPsYmrL",
        "outputId": "93b49169-7ecb-4294-b133-9f80a085493a"
      },
      "source": [
        "import torch\n",
        "import torch.nn as nn\n",
        "import torch.optim as optim\n",
        "\n",
        "import torchtext.legacy\n",
        "from torchtext import datasets\n",
        "\n",
        "import re\n",
        "import pandas as pd\n",
        "import numpy as np\n",
        "import seaborn as sns\n",
        "from matplotlib import pyplot as plt\n",
        "\n",
        "import spacy\n",
        "import nltk\n",
        "from nltk.corpus import stopwords, wordnet\n",
        "nltk.download('wordnet')\n",
        "nltk.download('stopwords')\n",
        "\n",
        "from sklearn.model_selection import train_test_split\n",
        "import random\n",
        "import os, pickle"
      ],
      "execution_count": 1,
      "outputs": [
        {
          "output_type": "stream",
          "text": [
            "[nltk_data] Downloading package wordnet to /root/nltk_data...\n",
            "[nltk_data]   Unzipping corpora/wordnet.zip.\n",
            "[nltk_data] Downloading package stopwords to /root/nltk_data...\n",
            "[nltk_data]   Unzipping corpora/stopwords.zip.\n"
          ],
          "name": "stdout"
        }
      ]
    },
    {
      "cell_type": "markdown",
      "metadata": {
        "id": "ilRIIqAtXub5"
      },
      "source": [
        "Get the raw data"
      ]
    },
    {
      "cell_type": "code",
      "metadata": {
        "colab": {
          "base_uri": "https://localhost:8080/"
        },
        "id": "-ZIr0kCXXG5X",
        "outputId": "162430f9-1f05-45e4-d258-c16e5aed1a50"
      },
      "source": [
        "! wget http://nlp.stanford.edu/~socherr/stanfordSentimentTreebank.zip"
      ],
      "execution_count": 2,
      "outputs": [
        {
          "output_type": "stream",
          "text": [
            "--2021-06-15 16:57:26--  http://nlp.stanford.edu/~socherr/stanfordSentimentTreebank.zip\n",
            "Resolving nlp.stanford.edu (nlp.stanford.edu)... 171.64.67.140\n",
            "Connecting to nlp.stanford.edu (nlp.stanford.edu)|171.64.67.140|:80... connected.\n",
            "HTTP request sent, awaiting response... 302 Found\n",
            "Location: https://nlp.stanford.edu/~socherr/stanfordSentimentTreebank.zip [following]\n",
            "--2021-06-15 16:57:26--  https://nlp.stanford.edu/~socherr/stanfordSentimentTreebank.zip\n",
            "Connecting to nlp.stanford.edu (nlp.stanford.edu)|171.64.67.140|:443... connected.\n",
            "HTTP request sent, awaiting response... 200 OK\n",
            "Length: 6372817 (6.1M) [application/zip]\n",
            "Saving to: ‘stanfordSentimentTreebank.zip’\n",
            "\n",
            "stanfordSentimentTr 100%[===================>]   6.08M  2.14MB/s    in 2.8s    \n",
            "\n",
            "2021-06-15 16:57:29 (2.14 MB/s) - ‘stanfordSentimentTreebank.zip’ saved [6372817/6372817]\n",
            "\n"
          ],
          "name": "stdout"
        }
      ]
    },
    {
      "cell_type": "code",
      "metadata": {
        "colab": {
          "base_uri": "https://localhost:8080/"
        },
        "id": "7qRYpLM7YFw2",
        "outputId": "e41c0249-6575-498e-db61-8c6d2ea97319"
      },
      "source": [
        "!unzip stanfordSentimentTreebank.zip"
      ],
      "execution_count": 3,
      "outputs": [
        {
          "output_type": "stream",
          "text": [
            "Archive:  stanfordSentimentTreebank.zip\n",
            "   creating: stanfordSentimentTreebank/\n",
            "  inflating: stanfordSentimentTreebank/datasetSentences.txt  \n",
            "   creating: __MACOSX/\n",
            "   creating: __MACOSX/stanfordSentimentTreebank/\n",
            "  inflating: __MACOSX/stanfordSentimentTreebank/._datasetSentences.txt  \n",
            "  inflating: stanfordSentimentTreebank/datasetSplit.txt  \n",
            "  inflating: __MACOSX/stanfordSentimentTreebank/._datasetSplit.txt  \n",
            "  inflating: stanfordSentimentTreebank/dictionary.txt  \n",
            "  inflating: __MACOSX/stanfordSentimentTreebank/._dictionary.txt  \n",
            "  inflating: stanfordSentimentTreebank/original_rt_snippets.txt  \n",
            "  inflating: __MACOSX/stanfordSentimentTreebank/._original_rt_snippets.txt  \n",
            "  inflating: stanfordSentimentTreebank/README.txt  \n",
            "  inflating: __MACOSX/stanfordSentimentTreebank/._README.txt  \n",
            "  inflating: stanfordSentimentTreebank/sentiment_labels.txt  \n",
            "  inflating: __MACOSX/stanfordSentimentTreebank/._sentiment_labels.txt  \n",
            "  inflating: stanfordSentimentTreebank/SOStr.txt  \n",
            "  inflating: stanfordSentimentTreebank/STree.txt  \n"
          ],
          "name": "stdout"
        }
      ]
    },
    {
      "cell_type": "markdown",
      "metadata": {
        "id": "Qou7QCCEY_9U"
      },
      "source": [
        "## Load Dataset into dataframes"
      ]
    },
    {
      "cell_type": "code",
      "metadata": {
        "id": "gQJ1OHPQY3Xx"
      },
      "source": [
        "# Get Sentiment Labels\n",
        "sentiment_labels = pd.read_csv('/content/stanfordSentimentTreebank/sentiment_labels.txt',names=['phrase_id','sentiment_values'], sep = \"|\", header = 0)"
      ],
      "execution_count": 4,
      "outputs": []
    },
    {
      "cell_type": "code",
      "metadata": {
        "colab": {
          "base_uri": "https://localhost:8080/",
          "height": 203
        },
        "id": "_twepsZrYc4F",
        "outputId": "64bc3ddc-5af8-4d84-9f74-f10f5ef03495"
      },
      "source": [
        "sentiment_labels.head()"
      ],
      "execution_count": 5,
      "outputs": [
        {
          "output_type": "execute_result",
          "data": {
            "text/html": [
              "<div>\n",
              "<style scoped>\n",
              "    .dataframe tbody tr th:only-of-type {\n",
              "        vertical-align: middle;\n",
              "    }\n",
              "\n",
              "    .dataframe tbody tr th {\n",
              "        vertical-align: top;\n",
              "    }\n",
              "\n",
              "    .dataframe thead th {\n",
              "        text-align: right;\n",
              "    }\n",
              "</style>\n",
              "<table border=\"1\" class=\"dataframe\">\n",
              "  <thead>\n",
              "    <tr style=\"text-align: right;\">\n",
              "      <th></th>\n",
              "      <th>phrase_id</th>\n",
              "      <th>sentiment_values</th>\n",
              "    </tr>\n",
              "  </thead>\n",
              "  <tbody>\n",
              "    <tr>\n",
              "      <th>0</th>\n",
              "      <td>0</td>\n",
              "      <td>0.50000</td>\n",
              "    </tr>\n",
              "    <tr>\n",
              "      <th>1</th>\n",
              "      <td>1</td>\n",
              "      <td>0.50000</td>\n",
              "    </tr>\n",
              "    <tr>\n",
              "      <th>2</th>\n",
              "      <td>2</td>\n",
              "      <td>0.44444</td>\n",
              "    </tr>\n",
              "    <tr>\n",
              "      <th>3</th>\n",
              "      <td>3</td>\n",
              "      <td>0.50000</td>\n",
              "    </tr>\n",
              "    <tr>\n",
              "      <th>4</th>\n",
              "      <td>4</td>\n",
              "      <td>0.42708</td>\n",
              "    </tr>\n",
              "  </tbody>\n",
              "</table>\n",
              "</div>"
            ],
            "text/plain": [
              "   phrase_id  sentiment_values\n",
              "0          0           0.50000\n",
              "1          1           0.50000\n",
              "2          2           0.44444\n",
              "3          3           0.50000\n",
              "4          4           0.42708"
            ]
          },
          "metadata": {
            "tags": []
          },
          "execution_count": 5
        }
      ]
    },
    {
      "cell_type": "code",
      "metadata": {
        "colab": {
          "base_uri": "https://localhost:8080/",
          "height": 203
        },
        "id": "NQnK1v3hbkgD",
        "outputId": "fd0f4980-1b23-4410-eda4-4c215344d0de"
      },
      "source": [
        "# Convert label values to 5 buckets\n",
        "n_bins = 5\n",
        "sentiment_labels['sentiment_values'] = pd.cut(sentiment_labels['sentiment_values'], n_bins, labels = np.arange(5),retbins=True)[0]\n",
        "sentiment_labels.head()"
      ],
      "execution_count": 6,
      "outputs": [
        {
          "output_type": "execute_result",
          "data": {
            "text/html": [
              "<div>\n",
              "<style scoped>\n",
              "    .dataframe tbody tr th:only-of-type {\n",
              "        vertical-align: middle;\n",
              "    }\n",
              "\n",
              "    .dataframe tbody tr th {\n",
              "        vertical-align: top;\n",
              "    }\n",
              "\n",
              "    .dataframe thead th {\n",
              "        text-align: right;\n",
              "    }\n",
              "</style>\n",
              "<table border=\"1\" class=\"dataframe\">\n",
              "  <thead>\n",
              "    <tr style=\"text-align: right;\">\n",
              "      <th></th>\n",
              "      <th>phrase_id</th>\n",
              "      <th>sentiment_values</th>\n",
              "    </tr>\n",
              "  </thead>\n",
              "  <tbody>\n",
              "    <tr>\n",
              "      <th>0</th>\n",
              "      <td>0</td>\n",
              "      <td>2</td>\n",
              "    </tr>\n",
              "    <tr>\n",
              "      <th>1</th>\n",
              "      <td>1</td>\n",
              "      <td>2</td>\n",
              "    </tr>\n",
              "    <tr>\n",
              "      <th>2</th>\n",
              "      <td>2</td>\n",
              "      <td>2</td>\n",
              "    </tr>\n",
              "    <tr>\n",
              "      <th>3</th>\n",
              "      <td>3</td>\n",
              "      <td>2</td>\n",
              "    </tr>\n",
              "    <tr>\n",
              "      <th>4</th>\n",
              "      <td>4</td>\n",
              "      <td>2</td>\n",
              "    </tr>\n",
              "  </tbody>\n",
              "</table>\n",
              "</div>"
            ],
            "text/plain": [
              "   phrase_id sentiment_values\n",
              "0          0                2\n",
              "1          1                2\n",
              "2          2                2\n",
              "3          3                2\n",
              "4          4                2"
            ]
          },
          "metadata": {
            "tags": []
          },
          "execution_count": 6
        }
      ]
    },
    {
      "cell_type": "code",
      "metadata": {
        "id": "ZPwj0BONb3OS"
      },
      "source": [
        "# Get Sentence Ids\n",
        "sentence_ids = pd.read_csv('/content/stanfordSentimentTreebank/datasetSentences.txt', sep = \"\\t\")"
      ],
      "execution_count": 7,
      "outputs": []
    },
    {
      "cell_type": "code",
      "metadata": {
        "colab": {
          "base_uri": "https://localhost:8080/",
          "height": 203
        },
        "id": "EZ-XGjBwdKha",
        "outputId": "e9297cd3-109d-4e3d-ecef-7d50501be638"
      },
      "source": [
        "sentence_ids.head()"
      ],
      "execution_count": 8,
      "outputs": [
        {
          "output_type": "execute_result",
          "data": {
            "text/html": [
              "<div>\n",
              "<style scoped>\n",
              "    .dataframe tbody tr th:only-of-type {\n",
              "        vertical-align: middle;\n",
              "    }\n",
              "\n",
              "    .dataframe tbody tr th {\n",
              "        vertical-align: top;\n",
              "    }\n",
              "\n",
              "    .dataframe thead th {\n",
              "        text-align: right;\n",
              "    }\n",
              "</style>\n",
              "<table border=\"1\" class=\"dataframe\">\n",
              "  <thead>\n",
              "    <tr style=\"text-align: right;\">\n",
              "      <th></th>\n",
              "      <th>sentence_index</th>\n",
              "      <th>sentence</th>\n",
              "    </tr>\n",
              "  </thead>\n",
              "  <tbody>\n",
              "    <tr>\n",
              "      <th>0</th>\n",
              "      <td>1</td>\n",
              "      <td>The Rock is destined to be the 21st Century 's...</td>\n",
              "    </tr>\n",
              "    <tr>\n",
              "      <th>1</th>\n",
              "      <td>2</td>\n",
              "      <td>The gorgeously elaborate continuation of `` Th...</td>\n",
              "    </tr>\n",
              "    <tr>\n",
              "      <th>2</th>\n",
              "      <td>3</td>\n",
              "      <td>Effective but too-tepid biopic</td>\n",
              "    </tr>\n",
              "    <tr>\n",
              "      <th>3</th>\n",
              "      <td>4</td>\n",
              "      <td>If you sometimes like to go to the movies to h...</td>\n",
              "    </tr>\n",
              "    <tr>\n",
              "      <th>4</th>\n",
              "      <td>5</td>\n",
              "      <td>Emerges as something rare , an issue movie tha...</td>\n",
              "    </tr>\n",
              "  </tbody>\n",
              "</table>\n",
              "</div>"
            ],
            "text/plain": [
              "   sentence_index                                           sentence\n",
              "0               1  The Rock is destined to be the 21st Century 's...\n",
              "1               2  The gorgeously elaborate continuation of `` Th...\n",
              "2               3                     Effective but too-tepid biopic\n",
              "3               4  If you sometimes like to go to the movies to h...\n",
              "4               5  Emerges as something rare , an issue movie tha..."
            ]
          },
          "metadata": {
            "tags": []
          },
          "execution_count": 8
        }
      ]
    },
    {
      "cell_type": "code",
      "metadata": {
        "id": "5zTtCWPue-Yb"
      },
      "source": [
        "# Get Dictionary\n",
        "dictionary = pd.read_csv('/content/stanfordSentimentTreebank/dictionary.txt', sep = \"|\", names = ['phrase', 'phrase_id'])"
      ],
      "execution_count": 9,
      "outputs": []
    },
    {
      "cell_type": "code",
      "metadata": {
        "colab": {
          "base_uri": "https://localhost:8080/",
          "height": 203
        },
        "id": "ddcWNB3-imxM",
        "outputId": "3a5fdc87-3e8b-4f2a-fbb0-451ed377f053"
      },
      "source": [
        "dictionary.head()"
      ],
      "execution_count": 10,
      "outputs": [
        {
          "output_type": "execute_result",
          "data": {
            "text/html": [
              "<div>\n",
              "<style scoped>\n",
              "    .dataframe tbody tr th:only-of-type {\n",
              "        vertical-align: middle;\n",
              "    }\n",
              "\n",
              "    .dataframe tbody tr th {\n",
              "        vertical-align: top;\n",
              "    }\n",
              "\n",
              "    .dataframe thead th {\n",
              "        text-align: right;\n",
              "    }\n",
              "</style>\n",
              "<table border=\"1\" class=\"dataframe\">\n",
              "  <thead>\n",
              "    <tr style=\"text-align: right;\">\n",
              "      <th></th>\n",
              "      <th>phrase</th>\n",
              "      <th>phrase_id</th>\n",
              "    </tr>\n",
              "  </thead>\n",
              "  <tbody>\n",
              "    <tr>\n",
              "      <th>0</th>\n",
              "      <td>!</td>\n",
              "      <td>0</td>\n",
              "    </tr>\n",
              "    <tr>\n",
              "      <th>1</th>\n",
              "      <td>! '</td>\n",
              "      <td>22935</td>\n",
              "    </tr>\n",
              "    <tr>\n",
              "      <th>2</th>\n",
              "      <td>! ''</td>\n",
              "      <td>18235</td>\n",
              "    </tr>\n",
              "    <tr>\n",
              "      <th>3</th>\n",
              "      <td>! Alas</td>\n",
              "      <td>179257</td>\n",
              "    </tr>\n",
              "    <tr>\n",
              "      <th>4</th>\n",
              "      <td>! Brilliant</td>\n",
              "      <td>22936</td>\n",
              "    </tr>\n",
              "  </tbody>\n",
              "</table>\n",
              "</div>"
            ],
            "text/plain": [
              "        phrase  phrase_id\n",
              "0            !          0\n",
              "1          ! '      22935\n",
              "2         ! ''      18235\n",
              "3       ! Alas     179257\n",
              "4  ! Brilliant      22936"
            ]
          },
          "metadata": {
            "tags": []
          },
          "execution_count": 10
        }
      ]
    },
    {
      "cell_type": "markdown",
      "metadata": {
        "id": "_Hz58VI9nGMz"
      },
      "source": [
        "### In this dataset, each sentence is split into lowest level phrases/tokens and these phrases are proivided the sentiments. These leaf level nodes are merged to get the sentiment of next level and this goes up till the entire sentence. Hence the dictionary contains all sentences with the sentiment as top level phrase or node. We can do an inner join to find these phrases."
      ]
    },
    {
      "cell_type": "code",
      "metadata": {
        "colab": {
          "base_uri": "https://localhost:8080/",
          "height": 203
        },
        "id": "n7fHnkfHloU5",
        "outputId": "ffde4168-afdd-439f-f257-b5e159553e1f"
      },
      "source": [
        "sentence_phrase_map = pd.merge(sentence_ids, dictionary, left_on='sentence', right_on='phrase')\n",
        "sentence_phrase_map.head()"
      ],
      "execution_count": 11,
      "outputs": [
        {
          "output_type": "execute_result",
          "data": {
            "text/html": [
              "<div>\n",
              "<style scoped>\n",
              "    .dataframe tbody tr th:only-of-type {\n",
              "        vertical-align: middle;\n",
              "    }\n",
              "\n",
              "    .dataframe tbody tr th {\n",
              "        vertical-align: top;\n",
              "    }\n",
              "\n",
              "    .dataframe thead th {\n",
              "        text-align: right;\n",
              "    }\n",
              "</style>\n",
              "<table border=\"1\" class=\"dataframe\">\n",
              "  <thead>\n",
              "    <tr style=\"text-align: right;\">\n",
              "      <th></th>\n",
              "      <th>sentence_index</th>\n",
              "      <th>sentence</th>\n",
              "      <th>phrase</th>\n",
              "      <th>phrase_id</th>\n",
              "    </tr>\n",
              "  </thead>\n",
              "  <tbody>\n",
              "    <tr>\n",
              "      <th>0</th>\n",
              "      <td>1</td>\n",
              "      <td>The Rock is destined to be the 21st Century 's...</td>\n",
              "      <td>The Rock is destined to be the 21st Century 's...</td>\n",
              "      <td>226166</td>\n",
              "    </tr>\n",
              "    <tr>\n",
              "      <th>1</th>\n",
              "      <td>2</td>\n",
              "      <td>The gorgeously elaborate continuation of `` Th...</td>\n",
              "      <td>The gorgeously elaborate continuation of `` Th...</td>\n",
              "      <td>226300</td>\n",
              "    </tr>\n",
              "    <tr>\n",
              "      <th>2</th>\n",
              "      <td>3</td>\n",
              "      <td>Effective but too-tepid biopic</td>\n",
              "      <td>Effective but too-tepid biopic</td>\n",
              "      <td>13995</td>\n",
              "    </tr>\n",
              "    <tr>\n",
              "      <th>3</th>\n",
              "      <td>4</td>\n",
              "      <td>If you sometimes like to go to the movies to h...</td>\n",
              "      <td>If you sometimes like to go to the movies to h...</td>\n",
              "      <td>14123</td>\n",
              "    </tr>\n",
              "    <tr>\n",
              "      <th>4</th>\n",
              "      <td>5</td>\n",
              "      <td>Emerges as something rare , an issue movie tha...</td>\n",
              "      <td>Emerges as something rare , an issue movie tha...</td>\n",
              "      <td>13999</td>\n",
              "    </tr>\n",
              "  </tbody>\n",
              "</table>\n",
              "</div>"
            ],
            "text/plain": [
              "   sentence_index  ... phrase_id\n",
              "0               1  ...    226166\n",
              "1               2  ...    226300\n",
              "2               3  ...     13995\n",
              "3               4  ...     14123\n",
              "4               5  ...     13999\n",
              "\n",
              "[5 rows x 4 columns]"
            ]
          },
          "metadata": {
            "tags": []
          },
          "execution_count": 11
        }
      ]
    },
    {
      "cell_type": "markdown",
      "metadata": {
        "id": "EIaK50pNpBqV"
      },
      "source": [
        "### As we need to get the sentiment of the sentences and sentiments are maintained at phrase level, we will do the inner join to get the sentiment of sentences using the df from above step"
      ]
    },
    {
      "cell_type": "code",
      "metadata": {
        "id": "e0yLM70UpBGG"
      },
      "source": [
        "sentence_sentiment = pd.merge(sentence_phrase_map, sentiment_labels, left_on='phrase_id', right_on='phrase_id')"
      ],
      "execution_count": 12,
      "outputs": []
    },
    {
      "cell_type": "code",
      "metadata": {
        "colab": {
          "base_uri": "https://localhost:8080/",
          "height": 203
        },
        "id": "Kt_NQnMiop3y",
        "outputId": "8da4a82b-da37-4179-ace5-e40c34240832"
      },
      "source": [
        "sentence_sentiment.head()"
      ],
      "execution_count": 13,
      "outputs": [
        {
          "output_type": "execute_result",
          "data": {
            "text/html": [
              "<div>\n",
              "<style scoped>\n",
              "    .dataframe tbody tr th:only-of-type {\n",
              "        vertical-align: middle;\n",
              "    }\n",
              "\n",
              "    .dataframe tbody tr th {\n",
              "        vertical-align: top;\n",
              "    }\n",
              "\n",
              "    .dataframe thead th {\n",
              "        text-align: right;\n",
              "    }\n",
              "</style>\n",
              "<table border=\"1\" class=\"dataframe\">\n",
              "  <thead>\n",
              "    <tr style=\"text-align: right;\">\n",
              "      <th></th>\n",
              "      <th>sentence_index</th>\n",
              "      <th>sentence</th>\n",
              "      <th>phrase</th>\n",
              "      <th>phrase_id</th>\n",
              "      <th>sentiment_values</th>\n",
              "    </tr>\n",
              "  </thead>\n",
              "  <tbody>\n",
              "    <tr>\n",
              "      <th>0</th>\n",
              "      <td>1</td>\n",
              "      <td>The Rock is destined to be the 21st Century 's...</td>\n",
              "      <td>The Rock is destined to be the 21st Century 's...</td>\n",
              "      <td>226166</td>\n",
              "      <td>3</td>\n",
              "    </tr>\n",
              "    <tr>\n",
              "      <th>1</th>\n",
              "      <td>2</td>\n",
              "      <td>The gorgeously elaborate continuation of `` Th...</td>\n",
              "      <td>The gorgeously elaborate continuation of `` Th...</td>\n",
              "      <td>226300</td>\n",
              "      <td>4</td>\n",
              "    </tr>\n",
              "    <tr>\n",
              "      <th>2</th>\n",
              "      <td>3</td>\n",
              "      <td>Effective but too-tepid biopic</td>\n",
              "      <td>Effective but too-tepid biopic</td>\n",
              "      <td>13995</td>\n",
              "      <td>2</td>\n",
              "    </tr>\n",
              "    <tr>\n",
              "      <th>3</th>\n",
              "      <td>4</td>\n",
              "      <td>If you sometimes like to go to the movies to h...</td>\n",
              "      <td>If you sometimes like to go to the movies to h...</td>\n",
              "      <td>14123</td>\n",
              "      <td>3</td>\n",
              "    </tr>\n",
              "    <tr>\n",
              "      <th>4</th>\n",
              "      <td>5</td>\n",
              "      <td>Emerges as something rare , an issue movie tha...</td>\n",
              "      <td>Emerges as something rare , an issue movie tha...</td>\n",
              "      <td>13999</td>\n",
              "      <td>4</td>\n",
              "    </tr>\n",
              "  </tbody>\n",
              "</table>\n",
              "</div>"
            ],
            "text/plain": [
              "   sentence_index  ... sentiment_values\n",
              "0               1  ...                3\n",
              "1               2  ...                4\n",
              "2               3  ...                2\n",
              "3               4  ...                3\n",
              "4               5  ...                4\n",
              "\n",
              "[5 rows x 5 columns]"
            ]
          },
          "metadata": {
            "tags": []
          },
          "execution_count": 13
        }
      ]
    },
    {
      "cell_type": "code",
      "metadata": {
        "colab": {
          "base_uri": "https://localhost:8080/"
        },
        "id": "i3gCi4joW8pH",
        "outputId": "4b92957a-80a5-4033-ead9-ad5d5528ab01"
      },
      "source": [
        "len(sentence_sentiment)"
      ],
      "execution_count": 14,
      "outputs": [
        {
          "output_type": "execute_result",
          "data": {
            "text/plain": [
              "11286"
            ]
          },
          "metadata": {
            "tags": []
          },
          "execution_count": 14
        }
      ]
    },
    {
      "cell_type": "markdown",
      "metadata": {
        "id": "XeQK3jCjrHVR"
      },
      "source": [
        "### To get the train test split, we will not use the train_test split dataset which has got the sentence index and split label and instead we will split the data into 70:30 ratio directly"
      ]
    },
    {
      "cell_type": "code",
      "metadata": {
        "id": "MUPonCHTq3QN"
      },
      "source": [
        "train_set, test_set = train_test_split(sentence_sentiment, test_size= .3, random_state= 42)"
      ],
      "execution_count": 15,
      "outputs": []
    },
    {
      "cell_type": "code",
      "metadata": {
        "colab": {
          "base_uri": "https://localhost:8080/"
        },
        "id": "Ljue6wo1s0nI",
        "outputId": "5c7bb0a7-f4be-4d8a-d044-14d79b8f48a6"
      },
      "source": [
        "train = train_set.drop(['sentence_index','phrase','phrase_id'],axis = 1)\n",
        "test = test_set.drop(['sentence_index','phrase','phrase_id'],axis = 1)\n",
        "train.reset_index(drop=True, inplace=True), test.reset_index(drop=True, inplace=True)"
      ],
      "execution_count": 61,
      "outputs": [
        {
          "output_type": "execute_result",
          "data": {
            "text/plain": [
              "(None, None)"
            ]
          },
          "metadata": {
            "tags": []
          },
          "execution_count": 61
        }
      ]
    },
    {
      "cell_type": "code",
      "metadata": {
        "colab": {
          "base_uri": "https://localhost:8080/"
        },
        "id": "VcQ4IS1jYak4",
        "outputId": "ef3be442-80e5-44e7-aca3-b878f8a0d288"
      },
      "source": [
        "len(train), len(test)"
      ],
      "execution_count": 17,
      "outputs": [
        {
          "output_type": "execute_result",
          "data": {
            "text/plain": [
              "(7900, 3386)"
            ]
          },
          "metadata": {
            "tags": []
          },
          "execution_count": 17
        }
      ]
    },
    {
      "cell_type": "code",
      "metadata": {
        "colab": {
          "base_uri": "https://localhost:8080/",
          "height": 203
        },
        "id": "w6afBbIiuqCH",
        "outputId": "ddc76523-8886-4cc3-94bb-0be7af9275e8"
      },
      "source": [
        "train.head()"
      ],
      "execution_count": 18,
      "outputs": [
        {
          "output_type": "execute_result",
          "data": {
            "text/html": [
              "<div>\n",
              "<style scoped>\n",
              "    .dataframe tbody tr th:only-of-type {\n",
              "        vertical-align: middle;\n",
              "    }\n",
              "\n",
              "    .dataframe tbody tr th {\n",
              "        vertical-align: top;\n",
              "    }\n",
              "\n",
              "    .dataframe thead th {\n",
              "        text-align: right;\n",
              "    }\n",
              "</style>\n",
              "<table border=\"1\" class=\"dataframe\">\n",
              "  <thead>\n",
              "    <tr style=\"text-align: right;\">\n",
              "      <th></th>\n",
              "      <th>sentence</th>\n",
              "      <th>sentiment_values</th>\n",
              "    </tr>\n",
              "  </thead>\n",
              "  <tbody>\n",
              "    <tr>\n",
              "      <th>10633</th>\n",
              "      <td>But ticket-buyers with great expectations will...</td>\n",
              "      <td>0</td>\n",
              "    </tr>\n",
              "    <tr>\n",
              "      <th>8877</th>\n",
              "      <td>Twenty years later , Reggio still knows how to...</td>\n",
              "      <td>2</td>\n",
              "    </tr>\n",
              "    <tr>\n",
              "      <th>810</th>\n",
              "      <td>`` 13 Conversations '' holds its goodwill clos...</td>\n",
              "      <td>2</td>\n",
              "    </tr>\n",
              "    <tr>\n",
              "      <th>6634</th>\n",
              "      <td>For those of us who respond more strongly to s...</td>\n",
              "      <td>1</td>\n",
              "    </tr>\n",
              "    <tr>\n",
              "      <th>8229</th>\n",
              "      <td>Moot point .</td>\n",
              "      <td>1</td>\n",
              "    </tr>\n",
              "  </tbody>\n",
              "</table>\n",
              "</div>"
            ],
            "text/plain": [
              "                                                sentence sentiment_values\n",
              "10633  But ticket-buyers with great expectations will...                0\n",
              "8877   Twenty years later , Reggio still knows how to...                2\n",
              "810    `` 13 Conversations '' holds its goodwill clos...                2\n",
              "6634   For those of us who respond more strongly to s...                1\n",
              "8229                                        Moot point .                1"
            ]
          },
          "metadata": {
            "tags": []
          },
          "execution_count": 18
        }
      ]
    },
    {
      "cell_type": "code",
      "metadata": {
        "colab": {
          "base_uri": "https://localhost:8080/"
        },
        "id": "3rUtfeO1u_PR",
        "outputId": "e2bb6728-e959-4a00-e61d-e31f79e121fc"
      },
      "source": [
        "train['sentiment_values'].value_counts()"
      ],
      "execution_count": 19,
      "outputs": [
        {
          "output_type": "execute_result",
          "data": {
            "text/plain": [
              "1    2077\n",
              "3    2058\n",
              "2    1528\n",
              "4    1219\n",
              "0    1018\n",
              "Name: sentiment_values, dtype: int64"
            ]
          },
          "metadata": {
            "tags": []
          },
          "execution_count": 19
        }
      ]
    },
    {
      "cell_type": "code",
      "metadata": {
        "colab": {
          "base_uri": "https://localhost:8080/",
          "height": 406
        },
        "id": "ZqHth4orvEdk",
        "outputId": "cc56c24b-6249-4158-976e-fa9301465d77"
      },
      "source": [
        "fig = plt.figure(figsize=(8,6))\n",
        "\n",
        "ax = sns.barplot(x=train['sentiment_values'].unique(), y=train['sentiment_values'].value_counts())\n",
        "\n",
        "ax.set(xlabel = 'Sentiment Value')"
      ],
      "execution_count": 20,
      "outputs": [
        {
          "output_type": "execute_result",
          "data": {
            "text/plain": [
              "[Text(0.5, 0, 'Sentiment Value')]"
            ]
          },
          "metadata": {
            "tags": []
          },
          "execution_count": 20
        },
        {
          "output_type": "display_data",
          "data": {
            "image/png": "[encoded data removed]",
            "text/plain": [
              "<Figure size 576x432 with 1 Axes>"
            ]
          },
          "metadata": {
            "tags": [],
            "needs_background": "light"
          }
        }
      ]
    },
    {
      "cell_type": "markdown",
      "metadata": {
        "id": "JYpuF1SsZQ-n"
      },
      "source": [
        "## Tokenize the data"
      ]
    },
    {
      "cell_type": "code",
      "metadata": {
        "id": "I-sNx8M6vV-X"
      },
      "source": [
        "train.to_csv('train.csv', index=False)\n",
        "test.to_csv('test.csv', index=False)"
      ],
      "execution_count": 21,
      "outputs": []
    },
    {
      "cell_type": "code",
      "metadata": {
        "id": "a2wWOj1n-FD7"
      },
      "source": [
        "def text_clean(text):\n",
        "  text = re.sub(r'[^A-Za-z0-9_-]+', ' ', text)\n",
        "  text = re.sub(r'https?:/\\/\\S+', ' ', text)\n",
        "\n",
        "  return(text.strip())"
      ],
      "execution_count": 22,
      "outputs": []
    },
    {
      "cell_type": "code",
      "metadata": {
        "id": "lnEiRUvgZZka"
      },
      "source": [
        "nlp = spacy.load('en', disable = ['parser', 'tagger', 'ner'])\n",
        "def tokenizer(s):\n",
        "  return [w.text.lower() for w in nlp(text_clean(s))]"
      ],
      "execution_count": 23,
      "outputs": []
    },
    {
      "cell_type": "code",
      "metadata": {
        "id": "4BIT1XrPZaux"
      },
      "source": [
        "TEXT = torchtext.legacy.data.Field(tokenize = tokenizer)\n",
        "\n",
        "LABEL = torchtext.legacy.data.LabelField(dtype = torch.float)"
      ],
      "execution_count": 24,
      "outputs": []
    },
    {
      "cell_type": "code",
      "metadata": {
        "id": "Otcywxi3Zcej"
      },
      "source": [
        "datafields = [('sentence', TEXT), ('sentiment_values', LABEL)]"
      ],
      "execution_count": 25,
      "outputs": []
    },
    {
      "cell_type": "code",
      "metadata": {
        "id": "hK0GILrqZdtM"
      },
      "source": [
        "trn, tst = torchtext.legacy.data.TabularDataset.splits(path='/content/session7',\n",
        "                                                       train = 'train.csv',\n",
        "                                                       test = 'test.csv',\n",
        "                                                       format = 'csv',\n",
        "                                                       skip_header = True,\n",
        "                                                       fields = datafields\n",
        "                                                       )"
      ],
      "execution_count": 28,
      "outputs": []
    },
    {
      "cell_type": "code",
      "metadata": {
        "colab": {
          "base_uri": "https://localhost:8080/"
        },
        "id": "ufTddC2dZpt1",
        "outputId": "0c0a88bc-1ad4-4d33-89d5-411ec105c47a"
      },
      "source": [
        "trn[:5]"
      ],
      "execution_count": 29,
      "outputs": [
        {
          "output_type": "execute_result",
          "data": {
            "text/plain": [
              "[<torchtext.legacy.data.example.Example at 0x7fef600efa90>,\n",
              " <torchtext.legacy.data.example.Example at 0x7fef6066e5d0>,\n",
              " <torchtext.legacy.data.example.Example at 0x7fef6066e910>,\n",
              " <torchtext.legacy.data.example.Example at 0x7fef60651250>,\n",
              " <torchtext.legacy.data.example.Example at 0x7fef6066e550>]"
            ]
          },
          "metadata": {
            "tags": []
          },
          "execution_count": 29
        }
      ]
    },
    {
      "cell_type": "code",
      "metadata": {
        "colab": {
          "base_uri": "https://localhost:8080/"
        },
        "id": "JdH7X8gaZ7ol",
        "outputId": "c5a55e1b-62c5-48b4-a635-dc86c94fe80f"
      },
      "source": [
        "print(f'Number of examples in training {len(trn)}')\n",
        "print(f'Number of examples in test {len(tst)}')"
      ],
      "execution_count": 30,
      "outputs": [
        {
          "output_type": "stream",
          "text": [
            "Number of examples in training 7900\n",
            "Number of examples in test 3386\n"
          ],
          "name": "stdout"
        }
      ]
    },
    {
      "cell_type": "code",
      "metadata": {
        "colab": {
          "base_uri": "https://localhost:8080/"
        },
        "id": "7Xi-XAJWZ9AM",
        "outputId": "7005a482-b60b-4072-e83e-2dd86f4abe0a"
      },
      "source": [
        "trn[5].__dict__.keys()"
      ],
      "execution_count": 31,
      "outputs": [
        {
          "output_type": "execute_result",
          "data": {
            "text/plain": [
              "dict_keys(['sentence', 'sentiment_values'])"
            ]
          },
          "metadata": {
            "tags": []
          },
          "execution_count": 31
        }
      ]
    },
    {
      "cell_type": "code",
      "metadata": {
        "colab": {
          "base_uri": "https://localhost:8080/"
        },
        "id": "542Lod8_Z-pj",
        "outputId": "aae4f9ae-b8d2-4898-95af-6f0330316a96"
      },
      "source": [
        "print(vars(trn[5]))"
      ],
      "execution_count": 32,
      "outputs": [
        {
          "output_type": "stream",
          "text": [
            "{'sentence': ['it', 'offers', 'a', 'glimpse', 'of', 'the', 'solomonic', 'decision', 'facing', 'jewish', 'parents', 'in', 'those', 'turbulent', 'times', 'to', 'save', 'their', 'children', 'and', 'yet', 'to', 'lose', 'them'], 'sentiment_values': '3'}\n"
          ],
          "name": "stdout"
        }
      ]
    },
    {
      "cell_type": "code",
      "metadata": {
        "id": "ERV9SykVZ_ye"
      },
      "source": [
        "words = [0 + len(t.sentence) for t in trn]"
      ],
      "execution_count": 33,
      "outputs": []
    },
    {
      "cell_type": "code",
      "metadata": {
        "colab": {
          "base_uri": "https://localhost:8080/"
        },
        "id": "y1WHg-aFaBIs",
        "outputId": "e8ed86fd-e634-4008-a46a-75af7ce28049"
      },
      "source": [
        "sum(words)"
      ],
      "execution_count": 34,
      "outputs": [
        {
          "output_type": "execute_result",
          "data": {
            "text/plain": [
              "138717"
            ]
          },
          "metadata": {
            "tags": []
          },
          "execution_count": 34
        }
      ]
    },
    {
      "cell_type": "markdown",
      "metadata": {
        "id": "DSP_pRCvaWH1"
      },
      "source": [
        "## Create Vocab"
      ]
    },
    {
      "cell_type": "code",
      "metadata": {
        "colab": {
          "base_uri": "https://localhost:8080/"
        },
        "id": "zMInKoNBaCna",
        "outputId": "15d771a0-bc41-4093-ddf1-5069a0538e98"
      },
      "source": [
        "TEXT.build_vocab(trn, max_size = 7750,\n",
        "                 vectors = \"glove.6B.100d\",\n",
        "                 unk_init = torch.Tensor.normal_,\n",
        "                 min_freq = 2 )\n",
        "\n",
        "LABEL.build_vocab(trn) "
      ],
      "execution_count": 35,
      "outputs": [
        {
          "output_type": "stream",
          "text": [
            ".vector_cache/glove.6B.zip: 862MB [02:42, 5.30MB/s]                           \n",
            "100%|█████████▉| 399577/400000 [00:20<00:00, 19905.33it/s]"
          ],
          "name": "stderr"
        }
      ]
    },
    {
      "cell_type": "code",
      "metadata": {
        "colab": {
          "base_uri": "https://localhost:8080/"
        },
        "id": "NKUPFK1JaRqE",
        "outputId": "30d59ee8-3c03-4914-f6eb-07b1857b5cb9"
      },
      "source": [
        "print(TEXT.vocab.freqs.most_common(50))"
      ],
      "execution_count": 36,
      "outputs": [
        {
          "output_type": "stream",
          "text": [
            "[('the', 6709), ('a', 4840), ('and', 4097), ('of', 4028), ('to', 2841), ('-', 2545), ('s', 2340), ('is', 2329), ('it', 2304), ('that', 1812), ('in', 1755), ('as', 1183), ('but', 1091), ('film', 1041), ('with', 1033), ('this', 963), ('for', 952), ('movie', 923), ('an', 872), ('its', 869), ('you', 780), ('t', 649), ('n', 638), ('be', 626), ('on', 604), ('not', 566), ('by', 553), ('one', 528), ('more', 494), ('are', 486), ('--', 486), ('like', 481), ('at', 476), ('about', 476), ('has', 468), ('from', 455), ('all', 453), ('than', 449), ('have', 431), ('his', 411), ('i', 407), ('so', 383), ('if', 378), ('story', 330), ('or', 323), ('too', 313), ('there', 312), ('up', 304), ('what', 302), ('out', 296)]\n"
          ],
          "name": "stdout"
        }
      ]
    },
    {
      "cell_type": "code",
      "metadata": {
        "colab": {
          "base_uri": "https://localhost:8080/"
        },
        "id": "ZwIOM1uIaZiW",
        "outputId": "a79a4ae4-3652-4159-eaba-61dc9a31e3fd"
      },
      "source": [
        "print(TEXT.vocab.itos[:10])"
      ],
      "execution_count": 37,
      "outputs": [
        {
          "output_type": "stream",
          "text": [
            "['<unk>', '<pad>', 'the', 'a', 'and', 'of', 'to', '-', 's', 'is']\n"
          ],
          "name": "stdout"
        }
      ]
    },
    {
      "cell_type": "code",
      "metadata": {
        "colab": {
          "base_uri": "https://localhost:8080/"
        },
        "id": "oIhvqRG-abtW",
        "outputId": "06c4cc53-250a-4509-b952-5cccdf5f436e"
      },
      "source": [
        "print(LABEL.vocab.stoi)"
      ],
      "execution_count": 38,
      "outputs": [
        {
          "output_type": "stream",
          "text": [
            "defaultdict(None, {'1': 0, '3': 1, '2': 2, '4': 3, '0': 4})\n"
          ],
          "name": "stdout"
        }
      ]
    },
    {
      "cell_type": "markdown",
      "metadata": {
        "id": "81LIKH_CahNk"
      },
      "source": [
        "# Create train and test iterators"
      ]
    },
    {
      "cell_type": "code",
      "metadata": {
        "id": "pK0qfZxuacvC"
      },
      "source": [
        "BATCH_SIZE = 128\n",
        "\n",
        "device = torch.device('cuda' if torch.cuda.is_available() else 'cpu')\n",
        "\n",
        "train_iterator, test_iterator = torchtext.legacy.data.BucketIterator.splits(\n",
        "                                                                            (trn, tst),\n",
        "                                                                            batch_size = BATCH_SIZE,\n",
        "                                                                            sort_key = lambda x: len(x.sentence),\n",
        "                                                                            sort_within_batch= True, \n",
        "                                                                            device = device)"
      ],
      "execution_count": 39,
      "outputs": []
    },
    {
      "cell_type": "markdown",
      "metadata": {
        "id": "H-_6Q_Ouaqn5"
      },
      "source": [
        "# Define Network"
      ]
    },
    {
      "cell_type": "code",
      "metadata": {
        "id": "v1liUDAcanDT"
      },
      "source": [
        "class RNN(nn.Module):\n",
        "  \n",
        "  def __init__(self, vocab_size, embedding_dim, hidden_dim, output_dim, n_layers, bidirectional, dropout):\n",
        "    \n",
        "    super().__init__()\n",
        "\n",
        "    self.embedding = nn.Embedding(vocab_size, embedding_dim)\n",
        "\n",
        "    self.rnn = nn.GRU(embedding_dim, hidden_dim, num_layers = n_layers,\n",
        "                      bidirectional = bidirectional, dropout = dropout )\n",
        "    \n",
        "    self.fc = nn.Linear(hidden_dim*2, output_dim)\n",
        "\n",
        "    self.dropout = nn.Dropout(dropout)\n",
        "\n",
        "  def forward(self, text):\n",
        "\n",
        "    embedded =  self.dropout(self.embedding(text))\n",
        "\n",
        "    output, hidden = self.rnn(embedded)\n",
        "\n",
        "    hidden = self.dropout(torch.cat((hidden[-2,:,:], hidden[-1,:,:]), dim=1))\n",
        "\n",
        "    return self.fc(hidden.squeeze(0))"
      ],
      "execution_count": 40,
      "outputs": []
    },
    {
      "cell_type": "markdown",
      "metadata": {
        "id": "3xXLN26EavlK"
      },
      "source": [
        "## Set Network Parameters"
      ]
    },
    {
      "cell_type": "code",
      "metadata": {
        "id": "NWvinDmXat1f"
      },
      "source": [
        "input_dim = len(TEXT.vocab)\n",
        "\n",
        "embedding_dim = 100\n",
        "\n",
        "hidden_dim  = 256\n",
        "\n",
        "output_dim = 5\n",
        "\n",
        "num_layers = 2\n",
        "\n",
        "bidirectional = True\n",
        "\n",
        "dropout = .3"
      ],
      "execution_count": 41,
      "outputs": []
    },
    {
      "cell_type": "markdown",
      "metadata": {
        "id": "ctL2cajwa44r"
      },
      "source": [
        "## Create Model"
      ]
    },
    {
      "cell_type": "code",
      "metadata": {
        "id": "86Gws6REa1ST"
      },
      "source": [
        "model = RNN(input_dim, \n",
        "            embedding_dim,\n",
        "            hidden_dim,\n",
        "            output_dim,\n",
        "            num_layers,\n",
        "            bidirectional,\n",
        "            dropout)"
      ],
      "execution_count": 42,
      "outputs": []
    },
    {
      "cell_type": "code",
      "metadata": {
        "colab": {
          "base_uri": "https://localhost:8080/"
        },
        "id": "8wnTtUEDa9GV",
        "outputId": "883643f9-7a5f-4fef-da3c-cfebd74edf1b"
      },
      "source": [
        "model"
      ],
      "execution_count": 43,
      "outputs": [
        {
          "output_type": "execute_result",
          "data": {
            "text/plain": [
              "RNN(\n",
              "  (embedding): Embedding(7752, 100)\n",
              "  (rnn): GRU(100, 256, num_layers=2, dropout=0.3, bidirectional=True)\n",
              "  (fc): Linear(in_features=512, out_features=5, bias=True)\n",
              "  (dropout): Dropout(p=0.3, inplace=False)\n",
              ")"
            ]
          },
          "metadata": {
            "tags": []
          },
          "execution_count": 43
        }
      ]
    },
    {
      "cell_type": "markdown",
      "metadata": {
        "id": "dGdhJBd0dp3w"
      },
      "source": [
        "## Use the pretrained GloVe embedddings"
      ]
    },
    {
      "cell_type": "code",
      "metadata": {
        "colab": {
          "base_uri": "https://localhost:8080/"
        },
        "id": "LGT3ozIya-fL",
        "outputId": "d07922a7-bc6e-4437-ff1a-d80fcaa7d3ce"
      },
      "source": [
        "pretrained_embeddings = TEXT.vocab.vectors\n",
        "print(pretrained_embeddings.shape)"
      ],
      "execution_count": 44,
      "outputs": [
        {
          "output_type": "stream",
          "text": [
            "torch.Size([7752, 100])\n"
          ],
          "name": "stdout"
        }
      ]
    },
    {
      "cell_type": "code",
      "metadata": {
        "colab": {
          "base_uri": "https://localhost:8080/"
        },
        "id": "S7OpogmqdoEb",
        "outputId": "21829fb9-df74-4d8f-b0cd-acc4e3f37a38"
      },
      "source": [
        "model.embedding.weight.data.copy_(pretrained_embeddings)"
      ],
      "execution_count": 45,
      "outputs": [
        {
          "output_type": "execute_result",
          "data": {
            "text/plain": [
              "tensor([[ 0.5857, -2.5796,  0.8720,  ..., -0.4522, -0.7387, -0.7126],\n",
              "        [ 0.4719, -0.0941, -0.3891,  ...,  0.7077, -0.3741,  1.9216],\n",
              "        [-0.0382, -0.2449,  0.7281,  ..., -0.1459,  0.8278,  0.2706],\n",
              "        ...,\n",
              "        [ 0.2654,  0.5014,  0.7789,  ..., -0.0487,  0.0765,  0.2981],\n",
              "        [ 0.2592,  0.2430,  0.5118,  ..., -0.1500,  0.1554,  0.4434],\n",
              "        [-0.1209,  0.5292, -0.4785,  ..., -0.5071,  0.8777,  0.2767]])"
            ]
          },
          "metadata": {
            "tags": []
          },
          "execution_count": 45
        }
      ]
    },
    {
      "cell_type": "code",
      "metadata": {
        "colab": {
          "base_uri": "https://localhost:8080/"
        },
        "id": "_kKkJ5cpeb_4",
        "outputId": "a2610220-5a22-47a7-883a-2fe1bd82e5e5"
      },
      "source": [
        "unk_idx = TEXT.vocab.stoi[TEXT.unk_token]\n",
        "pad_idx = TEXT.vocab.stoi[TEXT.pad_token]\n",
        "\n",
        "model.embedding.weight.data[unk_idx] = torch.zeros(embedding_dim)\n",
        "model.embedding.weight.data[pad_idx] = torch.zeros(embedding_dim)\n",
        "\n",
        "print(model.embedding.weight.data)"
      ],
      "execution_count": 46,
      "outputs": [
        {
          "output_type": "stream",
          "text": [
            "tensor([[ 0.0000,  0.0000,  0.0000,  ...,  0.0000,  0.0000,  0.0000],\n",
            "        [ 0.0000,  0.0000,  0.0000,  ...,  0.0000,  0.0000,  0.0000],\n",
            "        [-0.0382, -0.2449,  0.7281,  ..., -0.1459,  0.8278,  0.2706],\n",
            "        ...,\n",
            "        [ 0.2654,  0.5014,  0.7789,  ..., -0.0487,  0.0765,  0.2981],\n",
            "        [ 0.2592,  0.2430,  0.5118,  ..., -0.1500,  0.1554,  0.4434],\n",
            "        [-0.1209,  0.5292, -0.4785,  ..., -0.5071,  0.8777,  0.2767]])\n"
          ],
          "name": "stdout"
        }
      ]
    },
    {
      "cell_type": "code",
      "metadata": {
        "colab": {
          "base_uri": "https://localhost:8080/"
        },
        "id": "76mGFa2DedNT",
        "outputId": "a7987e81-0ed0-43f6-a29b-6c6fb3d89156"
      },
      "source": [
        "def count_parameters(model):\n",
        "    return sum(p.numel() for p in model.parameters() if p.requires_grad)\n",
        "\n",
        "print(f'The model has {count_parameters(model):,} trainable parameters')"
      ],
      "execution_count": 48,
      "outputs": [
        {
          "output_type": "stream",
          "text": [
            "The model has 2,510,373 trainable parameters\n"
          ],
          "name": "stdout"
        }
      ]
    },
    {
      "cell_type": "code",
      "metadata": {
        "id": "1_rpDSuYegTr"
      },
      "source": [
        "optimizer = optim.Adam(model.parameters(), lr = 1e-5)\n",
        "criterion = nn.CrossEntropyLoss()"
      ],
      "execution_count": 49,
      "outputs": []
    },
    {
      "cell_type": "code",
      "metadata": {
        "id": "ZcpIeRLPeiLN"
      },
      "source": [
        "# define metric\n",
        "def binary_accuracy(preds, y):\n",
        "    #round predictions to the closest integer\n",
        "    _, predictions = torch.max(preds, 1)\n",
        "    \n",
        "    correct = (predictions == y).float() \n",
        "    acc = correct.sum() / len(correct)\n",
        "    return acc\n",
        "    \n",
        "# push to cuda if available\n",
        "model = model.to(device)\n",
        "criterion = criterion.to(device)"
      ],
      "execution_count": 50,
      "outputs": []
    },
    {
      "cell_type": "code",
      "metadata": {
        "id": "Guklstr_ejfU"
      },
      "source": [
        "def train(model, iterator, optimizer, criterion):\n",
        "    \n",
        "    # initialize every epoch \n",
        "    epoch_loss = 0\n",
        "    epoch_acc = 0\n",
        "    \n",
        "    # set the model in training phase\n",
        "    model.train()  \n",
        "    \n",
        "    for batch in iterator:\n",
        "        \n",
        "        # resets the gradients after every batch\n",
        "        optimizer.zero_grad()   \n",
        "               \n",
        "        # convert to 1D tensor\n",
        "        predictions = model(batch.sentence).squeeze(1)\n",
        "        \n",
        "        # compute the loss\n",
        "        loss = criterion(predictions, batch.sentiment_values.long())        \n",
        "        \n",
        "        # compute the binary accuracy\n",
        "        acc = binary_accuracy(predictions, batch.sentiment_values.long())   \n",
        "        \n",
        "        # backpropage the loss and compute the gradients\n",
        "        loss.backward()       \n",
        "        \n",
        "        # update the weights\n",
        "        optimizer.step()      \n",
        "        \n",
        "        # loss and accuracy\n",
        "        epoch_loss += loss.item()  \n",
        "        epoch_acc += acc.item()    \n",
        "        \n",
        "    return epoch_loss / len(iterator), epoch_acc / len(iterator)"
      ],
      "execution_count": 51,
      "outputs": []
    },
    {
      "cell_type": "code",
      "metadata": {
        "id": "MrbXzBjGelrQ"
      },
      "source": [
        "def evaluate(model, iterator, criterion):\n",
        "    \n",
        "    # initialize every epoch\n",
        "    epoch_loss = 0\n",
        "    epoch_acc = 0\n",
        "\n",
        "    # deactivating dropout layers\n",
        "    model.eval()\n",
        "    \n",
        "    # deactivates autograd\n",
        "    with torch.no_grad():\n",
        "    \n",
        "        for batch in iterator:\n",
        "                   \n",
        "            # convert to 1d tensor\n",
        "            predictions = model(batch.sentence).squeeze(1)\n",
        "            \n",
        "            # compute loss and accuracy\n",
        "            loss = criterion(predictions, batch.sentiment_values.long())\n",
        "            acc = binary_accuracy(predictions, batch.sentiment_values.long())\n",
        "            \n",
        "            # keep track of loss and accuracy\n",
        "            epoch_loss += loss.item()\n",
        "            epoch_acc += acc.item()\n",
        "        \n",
        "    return epoch_loss / len(iterator), epoch_acc / len(iterator)"
      ],
      "execution_count": 52,
      "outputs": []
    },
    {
      "cell_type": "code",
      "metadata": {
        "colab": {
          "base_uri": "https://localhost:8080/"
        },
        "id": "zO2U20txenNm",
        "outputId": "f1f79407-4b89-488f-9cc5-aa2335b2e052"
      },
      "source": [
        "N_EPOCHS = 100\n",
        "\n",
        "best_test_loss = float('inf')\n",
        "\n",
        "trn_loss = [] \n",
        "trn_acc = []\n",
        "tst_loss = [] \n",
        "tst_acc = [] \n",
        "\n",
        "for epoch in range(N_EPOCHS):\n",
        "\n",
        "    if epoch > 80:\n",
        "      optimizer = optim.Adam(model.parameters(), lr = 1e-4)\n",
        "     \n",
        "    # train the model\n",
        "    train_loss, train_acc = train(model, train_iterator, optimizer, criterion)\n",
        "    trn_loss.append(train_loss)\n",
        "    trn_acc.append(train_acc*100)\n",
        "    \n",
        "    # evaluate the model\n",
        "    test_loss, test_acc = evaluate(model, test_iterator, criterion)\n",
        "    tst_loss.append(test_loss)\n",
        "    tst_acc.append(test_acc*100)\n",
        "    \n",
        "    print(f'Epoch: {epoch+1}')\n",
        "    print(f'\\tTrain Loss: {train_loss:.3f} | Train Acc: {train_acc*100:.2f}%')\n",
        "    print(f'\\t Val. Loss: {test_loss:.3f} |  Val. Acc: {test_acc*100:.2f}% \\n')"
      ],
      "execution_count": 54,
      "outputs": [
        {
          "output_type": "stream",
          "text": [
            "Epoch: 1\n",
            "\tTrain Loss: 1.577 | Train Acc: 26.44%\n",
            "\t Val. Loss: 1.568 |  Val. Acc: 29.44% \n",
            "\n",
            "Epoch: 2\n",
            "\tTrain Loss: 1.569 | Train Acc: 27.61%\n",
            "\t Val. Loss: 1.564 |  Val. Acc: 30.62% \n",
            "\n",
            "Epoch: 3\n",
            "\tTrain Loss: 1.568 | Train Acc: 28.46%\n",
            "\t Val. Loss: 1.562 |  Val. Acc: 31.11% \n",
            "\n",
            "Epoch: 4\n",
            "\tTrain Loss: 1.565 | Train Acc: 29.06%\n",
            "\t Val. Loss: 1.560 |  Val. Acc: 31.48% \n",
            "\n",
            "Epoch: 5\n",
            "\tTrain Loss: 1.562 | Train Acc: 29.32%\n",
            "\t Val. Loss: 1.558 |  Val. Acc: 32.25% \n",
            "\n",
            "Epoch: 6\n",
            "\tTrain Loss: 1.559 | Train Acc: 30.52%\n",
            "\t Val. Loss: 1.556 |  Val. Acc: 32.15% \n",
            "\n",
            "Epoch: 7\n",
            "\tTrain Loss: 1.556 | Train Acc: 30.83%\n",
            "\t Val. Loss: 1.553 |  Val. Acc: 32.25% \n",
            "\n",
            "Epoch: 8\n",
            "\tTrain Loss: 1.554 | Train Acc: 31.11%\n",
            "\t Val. Loss: 1.551 |  Val. Acc: 32.68% \n",
            "\n",
            "Epoch: 9\n",
            "\tTrain Loss: 1.549 | Train Acc: 31.65%\n",
            "\t Val. Loss: 1.547 |  Val. Acc: 32.86% \n",
            "\n",
            "Epoch: 10\n",
            "\tTrain Loss: 1.547 | Train Acc: 31.50%\n",
            "\t Val. Loss: 1.544 |  Val. Acc: 32.94% \n",
            "\n",
            "Epoch: 11\n",
            "\tTrain Loss: 1.542 | Train Acc: 32.04%\n",
            "\t Val. Loss: 1.540 |  Val. Acc: 33.12% \n",
            "\n",
            "Epoch: 12\n",
            "\tTrain Loss: 1.537 | Train Acc: 32.70%\n",
            "\t Val. Loss: 1.536 |  Val. Acc: 33.26% \n",
            "\n",
            "Epoch: 13\n",
            "\tTrain Loss: 1.531 | Train Acc: 32.94%\n",
            "\t Val. Loss: 1.530 |  Val. Acc: 33.17% \n",
            "\n",
            "Epoch: 14\n",
            "\tTrain Loss: 1.524 | Train Acc: 33.09%\n",
            "\t Val. Loss: 1.524 |  Val. Acc: 33.23% \n",
            "\n",
            "Epoch: 15\n",
            "\tTrain Loss: 1.519 | Train Acc: 33.40%\n",
            "\t Val. Loss: 1.517 |  Val. Acc: 33.53% \n",
            "\n",
            "Epoch: 16\n",
            "\tTrain Loss: 1.508 | Train Acc: 33.69%\n",
            "\t Val. Loss: 1.508 |  Val. Acc: 34.20% \n",
            "\n",
            "Epoch: 17\n",
            "\tTrain Loss: 1.499 | Train Acc: 33.59%\n",
            "\t Val. Loss: 1.498 |  Val. Acc: 34.69% \n",
            "\n",
            "Epoch: 18\n",
            "\tTrain Loss: 1.488 | Train Acc: 34.14%\n",
            "\t Val. Loss: 1.486 |  Val. Acc: 34.86% \n",
            "\n",
            "Epoch: 19\n",
            "\tTrain Loss: 1.475 | Train Acc: 35.10%\n",
            "\t Val. Loss: 1.473 |  Val. Acc: 34.74% \n",
            "\n",
            "Epoch: 20\n",
            "\tTrain Loss: 1.464 | Train Acc: 35.52%\n",
            "\t Val. Loss: 1.461 |  Val. Acc: 35.63% \n",
            "\n",
            "Epoch: 21\n",
            "\tTrain Loss: 1.455 | Train Acc: 35.99%\n",
            "\t Val. Loss: 1.450 |  Val. Acc: 36.08% \n",
            "\n",
            "Epoch: 22\n",
            "\tTrain Loss: 1.444 | Train Acc: 36.75%\n",
            "\t Val. Loss: 1.442 |  Val. Acc: 36.64% \n",
            "\n",
            "Epoch: 23\n",
            "\tTrain Loss: 1.433 | Train Acc: 37.01%\n",
            "\t Val. Loss: 1.433 |  Val. Acc: 37.04% \n",
            "\n",
            "Epoch: 24\n",
            "\tTrain Loss: 1.427 | Train Acc: 37.69%\n",
            "\t Val. Loss: 1.426 |  Val. Acc: 37.62% \n",
            "\n",
            "Epoch: 25\n",
            "\tTrain Loss: 1.425 | Train Acc: 37.17%\n",
            "\t Val. Loss: 1.421 |  Val. Acc: 37.65% \n",
            "\n",
            "Epoch: 26\n",
            "\tTrain Loss: 1.416 | Train Acc: 38.07%\n",
            "\t Val. Loss: 1.418 |  Val. Acc: 37.65% \n",
            "\n",
            "Epoch: 27\n",
            "\tTrain Loss: 1.409 | Train Acc: 38.18%\n",
            "\t Val. Loss: 1.412 |  Val. Acc: 38.74% \n",
            "\n",
            "Epoch: 28\n",
            "\tTrain Loss: 1.411 | Train Acc: 37.91%\n",
            "\t Val. Loss: 1.410 |  Val. Acc: 38.62% \n",
            "\n",
            "Epoch: 29\n",
            "\tTrain Loss: 1.403 | Train Acc: 37.89%\n",
            "\t Val. Loss: 1.406 |  Val. Acc: 39.07% \n",
            "\n",
            "Epoch: 30\n",
            "\tTrain Loss: 1.398 | Train Acc: 38.24%\n",
            "\t Val. Loss: 1.404 |  Val. Acc: 38.88% \n",
            "\n",
            "Epoch: 31\n",
            "\tTrain Loss: 1.400 | Train Acc: 38.83%\n",
            "\t Val. Loss: 1.401 |  Val. Acc: 39.18% \n",
            "\n",
            "Epoch: 32\n",
            "\tTrain Loss: 1.396 | Train Acc: 38.78%\n",
            "\t Val. Loss: 1.398 |  Val. Acc: 39.24% \n",
            "\n",
            "Epoch: 33\n",
            "\tTrain Loss: 1.396 | Train Acc: 38.61%\n",
            "\t Val. Loss: 1.398 |  Val. Acc: 38.99% \n",
            "\n",
            "Epoch: 34\n",
            "\tTrain Loss: 1.389 | Train Acc: 39.11%\n",
            "\t Val. Loss: 1.396 |  Val. Acc: 39.08% \n",
            "\n",
            "Epoch: 35\n",
            "\tTrain Loss: 1.389 | Train Acc: 39.44%\n",
            "\t Val. Loss: 1.394 |  Val. Acc: 39.25% \n",
            "\n",
            "Epoch: 36\n",
            "\tTrain Loss: 1.390 | Train Acc: 38.79%\n",
            "\t Val. Loss: 1.392 |  Val. Acc: 39.20% \n",
            "\n",
            "Epoch: 37\n",
            "\tTrain Loss: 1.383 | Train Acc: 39.04%\n",
            "\t Val. Loss: 1.391 |  Val. Acc: 39.19% \n",
            "\n",
            "Epoch: 38\n",
            "\tTrain Loss: 1.384 | Train Acc: 39.14%\n",
            "\t Val. Loss: 1.389 |  Val. Acc: 39.28% \n",
            "\n",
            "Epoch: 39\n",
            "\tTrain Loss: 1.387 | Train Acc: 38.67%\n",
            "\t Val. Loss: 1.388 |  Val. Acc: 39.25% \n",
            "\n",
            "Epoch: 40\n",
            "\tTrain Loss: 1.376 | Train Acc: 39.66%\n",
            "\t Val. Loss: 1.389 |  Val. Acc: 39.03% \n",
            "\n",
            "Epoch: 41\n",
            "\tTrain Loss: 1.378 | Train Acc: 39.46%\n",
            "\t Val. Loss: 1.386 |  Val. Acc: 39.36% \n",
            "\n",
            "Epoch: 42\n",
            "\tTrain Loss: 1.380 | Train Acc: 39.22%\n",
            "\t Val. Loss: 1.383 |  Val. Acc: 39.45% \n",
            "\n",
            "Epoch: 43\n",
            "\tTrain Loss: 1.380 | Train Acc: 39.61%\n",
            "\t Val. Loss: 1.383 |  Val. Acc: 39.30% \n",
            "\n",
            "Epoch: 44\n",
            "\tTrain Loss: 1.372 | Train Acc: 38.97%\n",
            "\t Val. Loss: 1.382 |  Val. Acc: 39.24% \n",
            "\n",
            "Epoch: 45\n",
            "\tTrain Loss: 1.374 | Train Acc: 39.80%\n",
            "\t Val. Loss: 1.385 |  Val. Acc: 39.08% \n",
            "\n",
            "Epoch: 46\n",
            "\tTrain Loss: 1.367 | Train Acc: 40.00%\n",
            "\t Val. Loss: 1.381 |  Val. Acc: 39.26% \n",
            "\n",
            "Epoch: 47\n",
            "\tTrain Loss: 1.372 | Train Acc: 39.08%\n",
            "\t Val. Loss: 1.378 |  Val. Acc: 39.51% \n",
            "\n",
            "Epoch: 48\n",
            "\tTrain Loss: 1.372 | Train Acc: 40.15%\n",
            "\t Val. Loss: 1.380 |  Val. Acc: 39.46% \n",
            "\n",
            "Epoch: 49\n",
            "\tTrain Loss: 1.370 | Train Acc: 39.75%\n",
            "\t Val. Loss: 1.377 |  Val. Acc: 39.62% \n",
            "\n",
            "Epoch: 50\n",
            "\tTrain Loss: 1.369 | Train Acc: 39.32%\n",
            "\t Val. Loss: 1.378 |  Val. Acc: 39.60% \n",
            "\n",
            "Epoch: 51\n",
            "\tTrain Loss: 1.363 | Train Acc: 40.41%\n",
            "\t Val. Loss: 1.375 |  Val. Acc: 39.70% \n",
            "\n",
            "Epoch: 52\n",
            "\tTrain Loss: 1.363 | Train Acc: 40.07%\n",
            "\t Val. Loss: 1.378 |  Val. Acc: 39.46% \n",
            "\n",
            "Epoch: 53\n",
            "\tTrain Loss: 1.361 | Train Acc: 39.82%\n",
            "\t Val. Loss: 1.372 |  Val. Acc: 40.03% \n",
            "\n",
            "Epoch: 54\n",
            "\tTrain Loss: 1.362 | Train Acc: 40.43%\n",
            "\t Val. Loss: 1.372 |  Val. Acc: 39.89% \n",
            "\n",
            "Epoch: 55\n",
            "\tTrain Loss: 1.358 | Train Acc: 40.19%\n",
            "\t Val. Loss: 1.372 |  Val. Acc: 39.96% \n",
            "\n",
            "Epoch: 56\n",
            "\tTrain Loss: 1.359 | Train Acc: 39.96%\n",
            "\t Val. Loss: 1.371 |  Val. Acc: 39.91% \n",
            "\n",
            "Epoch: 57\n",
            "\tTrain Loss: 1.361 | Train Acc: 40.41%\n",
            "\t Val. Loss: 1.372 |  Val. Acc: 40.08% \n",
            "\n",
            "Epoch: 58\n",
            "\tTrain Loss: 1.355 | Train Acc: 40.49%\n",
            "\t Val. Loss: 1.368 |  Val. Acc: 40.38% \n",
            "\n",
            "Epoch: 59\n",
            "\tTrain Loss: 1.355 | Train Acc: 40.33%\n",
            "\t Val. Loss: 1.368 |  Val. Acc: 40.31% \n",
            "\n",
            "Epoch: 60\n",
            "\tTrain Loss: 1.360 | Train Acc: 40.15%\n",
            "\t Val. Loss: 1.368 |  Val. Acc: 40.53% \n",
            "\n",
            "Epoch: 61\n",
            "\tTrain Loss: 1.351 | Train Acc: 40.62%\n",
            "\t Val. Loss: 1.371 |  Val. Acc: 40.06% \n",
            "\n",
            "Epoch: 62\n",
            "\tTrain Loss: 1.351 | Train Acc: 40.80%\n",
            "\t Val. Loss: 1.366 |  Val. Acc: 40.58% \n",
            "\n",
            "Epoch: 63\n",
            "\tTrain Loss: 1.349 | Train Acc: 40.76%\n",
            "\t Val. Loss: 1.366 |  Val. Acc: 40.46% \n",
            "\n",
            "Epoch: 64\n",
            "\tTrain Loss: 1.351 | Train Acc: 40.98%\n",
            "\t Val. Loss: 1.366 |  Val. Acc: 40.33% \n",
            "\n",
            "Epoch: 65\n",
            "\tTrain Loss: 1.348 | Train Acc: 41.11%\n",
            "\t Val. Loss: 1.366 |  Val. Acc: 40.25% \n",
            "\n",
            "Epoch: 66\n",
            "\tTrain Loss: 1.350 | Train Acc: 40.38%\n",
            "\t Val. Loss: 1.367 |  Val. Acc: 40.06% \n",
            "\n",
            "Epoch: 67\n",
            "\tTrain Loss: 1.349 | Train Acc: 40.67%\n",
            "\t Val. Loss: 1.363 |  Val. Acc: 40.60% \n",
            "\n",
            "Epoch: 68\n",
            "\tTrain Loss: 1.342 | Train Acc: 41.04%\n",
            "\t Val. Loss: 1.362 |  Val. Acc: 40.73% \n",
            "\n",
            "Epoch: 69\n",
            "\tTrain Loss: 1.347 | Train Acc: 40.89%\n",
            "\t Val. Loss: 1.372 |  Val. Acc: 39.88% \n",
            "\n",
            "Epoch: 70\n",
            "\tTrain Loss: 1.347 | Train Acc: 40.84%\n",
            "\t Val. Loss: 1.359 |  Val. Acc: 40.99% \n",
            "\n",
            "Epoch: 71\n",
            "\tTrain Loss: 1.345 | Train Acc: 41.31%\n",
            "\t Val. Loss: 1.361 |  Val. Acc: 40.63% \n",
            "\n",
            "Epoch: 72\n",
            "\tTrain Loss: 1.343 | Train Acc: 40.66%\n",
            "\t Val. Loss: 1.358 |  Val. Acc: 41.19% \n",
            "\n",
            "Epoch: 73\n",
            "\tTrain Loss: 1.342 | Train Acc: 40.75%\n",
            "\t Val. Loss: 1.360 |  Val. Acc: 40.61% \n",
            "\n",
            "Epoch: 74\n",
            "\tTrain Loss: 1.340 | Train Acc: 40.88%\n",
            "\t Val. Loss: 1.360 |  Val. Acc: 40.77% \n",
            "\n",
            "Epoch: 75\n",
            "\tTrain Loss: 1.340 | Train Acc: 40.90%\n",
            "\t Val. Loss: 1.357 |  Val. Acc: 40.67% \n",
            "\n",
            "Epoch: 76\n",
            "\tTrain Loss: 1.336 | Train Acc: 41.93%\n",
            "\t Val. Loss: 1.358 |  Val. Acc: 40.58% \n",
            "\n",
            "Epoch: 77\n",
            "\tTrain Loss: 1.332 | Train Acc: 41.80%\n",
            "\t Val. Loss: 1.354 |  Val. Acc: 41.09% \n",
            "\n",
            "Epoch: 78\n",
            "\tTrain Loss: 1.338 | Train Acc: 41.60%\n",
            "\t Val. Loss: 1.354 |  Val. Acc: 41.32% \n",
            "\n",
            "Epoch: 79\n",
            "\tTrain Loss: 1.328 | Train Acc: 41.93%\n",
            "\t Val. Loss: 1.353 |  Val. Acc: 41.06% \n",
            "\n",
            "Epoch: 80\n",
            "\tTrain Loss: 1.336 | Train Acc: 41.53%\n",
            "\t Val. Loss: 1.354 |  Val. Acc: 40.94% \n",
            "\n",
            "Epoch: 81\n",
            "\tTrain Loss: 1.329 | Train Acc: 41.29%\n",
            "\t Val. Loss: 1.353 |  Val. Acc: 41.00% \n",
            "\n",
            "Epoch: 82\n",
            "\tTrain Loss: 1.340 | Train Acc: 40.97%\n",
            "\t Val. Loss: 1.354 |  Val. Acc: 41.03% \n",
            "\n",
            "Epoch: 83\n",
            "\tTrain Loss: 1.329 | Train Acc: 41.79%\n",
            "\t Val. Loss: 1.346 |  Val. Acc: 41.33% \n",
            "\n",
            "Epoch: 84\n",
            "\tTrain Loss: 1.322 | Train Acc: 41.59%\n",
            "\t Val. Loss: 1.343 |  Val. Acc: 42.15% \n",
            "\n",
            "Epoch: 85\n",
            "\tTrain Loss: 1.313 | Train Acc: 42.71%\n",
            "\t Val. Loss: 1.339 |  Val. Acc: 41.74% \n",
            "\n",
            "Epoch: 86\n",
            "\tTrain Loss: 1.305 | Train Acc: 42.79%\n",
            "\t Val. Loss: 1.354 |  Val. Acc: 40.54% \n",
            "\n",
            "Epoch: 87\n",
            "\tTrain Loss: 1.293 | Train Acc: 43.42%\n",
            "\t Val. Loss: 1.330 |  Val. Acc: 41.82% \n",
            "\n",
            "Epoch: 88\n",
            "\tTrain Loss: 1.288 | Train Acc: 43.29%\n",
            "\t Val. Loss: 1.327 |  Val. Acc: 42.15% \n",
            "\n",
            "Epoch: 89\n",
            "\tTrain Loss: 1.284 | Train Acc: 44.50%\n",
            "\t Val. Loss: 1.336 |  Val. Acc: 40.81% \n",
            "\n",
            "Epoch: 90\n",
            "\tTrain Loss: 1.269 | Train Acc: 44.72%\n",
            "\t Val. Loss: 1.322 |  Val. Acc: 42.13% \n",
            "\n",
            "Epoch: 91\n",
            "\tTrain Loss: 1.266 | Train Acc: 45.41%\n",
            "\t Val. Loss: 1.325 |  Val. Acc: 41.58% \n",
            "\n",
            "Epoch: 92\n",
            "\tTrain Loss: 1.255 | Train Acc: 44.59%\n",
            "\t Val. Loss: 1.314 |  Val. Acc: 43.04% \n",
            "\n",
            "Epoch: 93\n",
            "\tTrain Loss: 1.251 | Train Acc: 45.75%\n",
            "\t Val. Loss: 1.314 |  Val. Acc: 42.24% \n",
            "\n",
            "Epoch: 94\n",
            "\tTrain Loss: 1.233 | Train Acc: 46.38%\n",
            "\t Val. Loss: 1.320 |  Val. Acc: 42.09% \n",
            "\n",
            "Epoch: 95\n",
            "\tTrain Loss: 1.233 | Train Acc: 45.96%\n",
            "\t Val. Loss: 1.304 |  Val. Acc: 42.87% \n",
            "\n",
            "Epoch: 96\n",
            "\tTrain Loss: 1.227 | Train Acc: 46.54%\n",
            "\t Val. Loss: 1.326 |  Val. Acc: 42.53% \n",
            "\n",
            "Epoch: 97\n",
            "\tTrain Loss: 1.218 | Train Acc: 47.48%\n",
            "\t Val. Loss: 1.303 |  Val. Acc: 43.55% \n",
            "\n",
            "Epoch: 98\n",
            "\tTrain Loss: 1.207 | Train Acc: 47.38%\n",
            "\t Val. Loss: 1.300 |  Val. Acc: 43.43% \n",
            "\n",
            "Epoch: 99\n",
            "\tTrain Loss: 1.202 | Train Acc: 48.17%\n",
            "\t Val. Loss: 1.300 |  Val. Acc: 43.29% \n",
            "\n",
            "Epoch: 100\n",
            "\tTrain Loss: 1.198 | Train Acc: 48.23%\n",
            "\t Val. Loss: 1.305 |  Val. Acc: 43.15% \n",
            "\n"
          ],
          "name": "stdout"
        }
      ]
    },
    {
      "cell_type": "markdown",
      "metadata": {
        "id": "w6sO3O9Xfa1S"
      },
      "source": [
        "## Train test logs"
      ]
    },
    {
      "cell_type": "code",
      "metadata": {
        "colab": {
          "base_uri": "https://localhost:8080/",
          "height": 626
        },
        "id": "VXJCOYYOeqbD",
        "outputId": "3cb342f4-5490-4702-c85c-3ed09e1f2648"
      },
      "source": [
        "plt.style.use('ggplot')\n",
        "\n",
        "fig, axs = plt.subplots(1,2,figsize=(20,10))\n",
        "\n",
        "axs[0].plot(trn_loss, label = 'train loss')\n",
        "axs[0].plot(tst_loss, label = 'test loss')\n",
        "axs[0].legend(loc=\"upper right\")\n",
        "axs[0].set_title(\"Loss\")\n",
        "\n",
        "axs[1].plot(trn_acc,  label = 'train accuracy')\n",
        "axs[1].plot(tst_acc,  label = 'test accuracy')\n",
        "axs[1].legend(loc=\"lower right\")\n",
        "axs[1].set_title(\"Accuracy\")"
      ],
      "execution_count": 55,
      "outputs": [
        {
          "output_type": "execute_result",
          "data": {
            "text/plain": [
              "Text(0.5, 1.0, 'Accuracy')"
            ]
          },
          "metadata": {
            "tags": []
          },
          "execution_count": 55
        },
        {
          "output_type": "display_data",
          "data": {
            "image/png": "[encoded data removed]",
            "text/plain": [
              "<Figure size 1440x720 with 2 Axes>"
            ]
          },
          "metadata": {
            "tags": []
          }
        }
      ]
    },
    {
      "cell_type": "markdown",
      "metadata": {
        "id": "tLB1MT-bfes2"
      },
      "source": [
        "## Validate model results"
      ]
    },
    {
      "cell_type": "code",
      "metadata": {
        "id": "PCXtqGpJfcuz"
      },
      "source": [
        "def test_model(sentence):\n",
        "  tokenized = [tok.text for tok in nlp.tokenizer(sentence)]\n",
        "  indexed = [TEXT.vocab.stoi[t] for t in tokenized]\n",
        "  tensor = torch.LongTensor(indexed)\n",
        "  tensor = tensor.unsqueeze(1).to(device)\n",
        "\n",
        "  model.eval()\n",
        "  prediction = model(tensor)\n",
        "\n",
        "  return( [\"very negative\", \"negative\", \"neutral\", \"positive\", \"very positive\"][torch.argmax(prediction, dim=0).item()] )"
      ],
      "execution_count": 56,
      "outputs": []
    },
    {
      "cell_type": "code",
      "metadata": {
        "colab": {
          "base_uri": "https://localhost:8080/"
        },
        "id": "LraO_vfpfhPq",
        "outputId": "78ded81e-c6b7-461e-d100-ffd5ed52a579"
      },
      "source": [
        "sentence = test.sentence[111]\n",
        "sentiment_values = test.sentiment_values[111]\n",
        "test_model(sentence), [\"very negative\", \"negative\", \"neutral\", \"positive\", \"very positive\"][sentiment_values], sentence"
      ],
      "execution_count": 70,
      "outputs": [
        {
          "output_type": "execute_result",
          "data": {
            "text/plain": [
              "('very negative',\n",
              " 'negative',\n",
              " 'Filled with low-brow humor , gratuitous violence and a disturbing disregard for life .')"
            ]
          },
          "metadata": {
            "tags": []
          },
          "execution_count": 70
        }
      ]
    },
    {
      "cell_type": "code",
      "metadata": {
        "colab": {
          "base_uri": "https://localhost:8080/"
        },
        "id": "-iHWv45fftaU",
        "outputId": "9218612f-a2c5-4f8d-9ce1-a6c493adb912"
      },
      "source": [
        "sentence = test.sentence[221]\n",
        "sentiment_values = test.sentiment_values[221]\n",
        "test_model(sentence), [\"very negative\", \"negative\", \"neutral\", \"positive\", \"very positive\"][sentiment_values], sentence"
      ],
      "execution_count": 71,
      "outputs": [
        {
          "output_type": "execute_result",
          "data": {
            "text/plain": [
              "('very negative',\n",
              " 'very negative',\n",
              " \"It 's not just the vampires that are damned in Queen of the Damned -- the viewers will feel they suffer the same fate .\")"
            ]
          },
          "metadata": {
            "tags": []
          },
          "execution_count": 71
        }
      ]
    },
    {
      "cell_type": "code",
      "metadata": {
        "colab": {
          "base_uri": "https://localhost:8080/"
        },
        "id": "cNxRJTFsgCpr",
        "outputId": "7683bd31-91ff-4e60-aa59-019b1478313d"
      },
      "source": [
        "sentence = test.sentence[333]\n",
        "sentiment_values = test.sentiment_values[333]\n",
        "test_model(sentence), [\"very negative\", \"negative\", \"neutral\", \"positive\", \"very positive\"][sentiment_values], sentence"
      ],
      "execution_count": 73,
      "outputs": [
        {
          "output_type": "execute_result",
          "data": {
            "text/plain": [
              "('very negative',\n",
              " 'very negative',\n",
              " 'The Irwins emerge unscathed , but the fictional footage is unconvincing and criminally badly acted .')"
            ]
          },
          "metadata": {
            "tags": []
          },
          "execution_count": 73
        }
      ]
    },
    {
      "cell_type": "code",
      "metadata": {
        "colab": {
          "base_uri": "https://localhost:8080/"
        },
        "id": "79LVGFHtgW2a",
        "outputId": "84cffde4-1e44-443c-d5e9-9d921c7d3ab3"
      },
      "source": [
        "sentence = test.sentence[444]\n",
        "sentiment_values = test.sentiment_values[444]\n",
        "test_model(sentence), [\"very negative\", \"negative\", \"neutral\", \"positive\", \"very positive\"][sentiment_values], sentence"
      ],
      "execution_count": 74,
      "outputs": [
        {
          "output_type": "execute_result",
          "data": {
            "text/plain": [
              "('negative',\n",
              " 'positive',\n",
              " 'The film is reasonably entertaining , though it begins to drag two-thirds through , when the melodramatic aspects start to overtake the comedy .')"
            ]
          },
          "metadata": {
            "tags": []
          },
          "execution_count": 74
        }
      ]
    },
    {
      "cell_type": "code",
      "metadata": {
        "colab": {
          "base_uri": "https://localhost:8080/"
        },
        "id": "R0nen_VhlKCD",
        "outputId": "2e41b8c7-f7de-46db-d71c-cabdb277195f"
      },
      "source": [
        "sentence = test.sentence[567]\n",
        "sentiment_values = test.sentiment_values[567]\n",
        "test_model(sentence), [\"very negative\", \"negative\", \"neutral\", \"positive\", \"very positive\"][sentiment_values], sentence"
      ],
      "execution_count": 76,
      "outputs": [
        {
          "output_type": "execute_result",
          "data": {
            "text/plain": [
              "('very negative',\n",
              " 'negative',\n",
              " 'The film is so packed with subplots involving the various Silbersteins that it feels more like the pilot episode of a TV series than a feature film .')"
            ]
          },
          "metadata": {
            "tags": []
          },
          "execution_count": 76
        }
      ]
    },
    {
      "cell_type": "code",
      "metadata": {
        "colab": {
          "base_uri": "https://localhost:8080/"
        },
        "id": "5U044iIvlRaJ",
        "outputId": "426bf3d3-56b5-4c6d-dc26-0420adbe0997"
      },
      "source": [
        "sentence = test.sentence[611]\n",
        "sentiment_values = test.sentiment_values[611]\n",
        "test_model(sentence), [\"very negative\", \"negative\", \"neutral\", \"positive\", \"very positive\"][sentiment_values], sentence"
      ],
      "execution_count": 65,
      "outputs": [
        {
          "output_type": "execute_result",
          "data": {
            "text/plain": [
              "('very negative',\n",
              " 'negative',\n",
              " 'Starts out with tremendous promise , introducing an intriguing and alluring premise , only to fall prey to a boatload of screenwriting cliches that sink it faster than a leaky freighter .')"
            ]
          },
          "metadata": {
            "tags": []
          },
          "execution_count": 65
        }
      ]
    },
    {
      "cell_type": "code",
      "metadata": {
        "colab": {
          "base_uri": "https://localhost:8080/"
        },
        "id": "SZDp5JHnmGd_",
        "outputId": "a57ddf22-a240-426c-fcd4-d8749abde28c"
      },
      "source": [
        "sentence = test.sentence[711]\n",
        "sentiment_values = test.sentiment_values[711]\n",
        "test_model(sentence), [\"very negative\", \"negative\", \"neutral\", \"positive\", \"very positive\"][sentiment_values], sentence"
      ],
      "execution_count": 66,
      "outputs": [
        {
          "output_type": "execute_result",
          "data": {
            "text/plain": [
              "('negative',\n",
              " 'very positive',\n",
              " 'Gangster No. 1 is solid , satisfying fare for adults .')"
            ]
          },
          "metadata": {
            "tags": []
          },
          "execution_count": 66
        }
      ]
    },
    {
      "cell_type": "code",
      "metadata": {
        "colab": {
          "base_uri": "https://localhost:8080/"
        },
        "id": "gqqep3KemWvX",
        "outputId": "98371871-4bd0-4389-bfbc-ad8e7bc25e56"
      },
      "source": [
        "sentence = test.sentence[811]\n",
        "sentiment_values = test.sentiment_values[711]\n",
        "test_model(sentence), [\"very negative\", \"negative\", \"neutral\", \"positive\", \"very positive\"][sentiment_values], sentence"
      ],
      "execution_count": 67,
      "outputs": [
        {
          "output_type": "execute_result",
          "data": {
            "text/plain": [
              "('very negative',\n",
              " 'very positive',\n",
              " \"Showtime is n't particularly assaultive , but it can still make you feel that you never want to see another car chase , explosion or gunfight again .\")"
            ]
          },
          "metadata": {
            "tags": []
          },
          "execution_count": 67
        }
      ]
    },
    {
      "cell_type": "code",
      "metadata": {
        "colab": {
          "base_uri": "https://localhost:8080/"
        },
        "id": "_VNLGrGEmXcw",
        "outputId": "c0b9b525-9950-42a5-831b-903ce034b525"
      },
      "source": [
        "sentence = test.sentence[911]\n",
        "sentiment_values = test.sentiment_values[711]\n",
        "test_model(sentence), [\"very negative\", \"negative\", \"neutral\", \"positive\", \"very positive\"][sentiment_values], sentence"
      ],
      "execution_count": 68,
      "outputs": [
        {
          "output_type": "execute_result",
          "data": {
            "text/plain": [
              "('negative',\n",
              " 'very positive',\n",
              " \"The comic performances are all spot on , especially Lee Ross 's turn as Ken .\")"
            ]
          },
          "metadata": {
            "tags": []
          },
          "execution_count": 68
        }
      ]
    },
    {
      "cell_type": "code",
      "metadata": {
        "id": "Y8jfLhrDudmp"
      },
      "source": [
        ""
      ],
      "execution_count": 68,
      "outputs": []
    }
  ]
}